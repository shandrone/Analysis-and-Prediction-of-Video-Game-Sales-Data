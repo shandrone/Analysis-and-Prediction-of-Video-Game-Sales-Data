{
  "nbformat": 4,
  "nbformat_minor": 0,
  "metadata": {
    "colab": {
      "name": "Assignment_4.ipynb",
      "provenance": []
    },
    "kernelspec": {
      "name": "python3",
      "display_name": "Python 3"
    }
  },
  "cells": [
    {
      "cell_type": "markdown",
      "metadata": {
        "id": "ToAXQccuMidx",
        "colab_type": "text"
      },
      "source": [
        "Submitted by Shandro Chakraborty, ID: 200419464, email: scp931@uregina.ca "
      ]
    },
    {
      "cell_type": "markdown",
      "metadata": {
        "id": "ui2rojJSI5kf",
        "colab_type": "text"
      },
      "source": [
        "**Choosing the Dataset**\n",
        "\n",
        "For this Python notebook, the dataset on video game sales data has been chosen. This dataset was obtained from Kaggle.com. The video game dataset contains infromation of of sales data 16718 games from 1985 to December 2016. Video game is quickly becoming giant as an industry in North America and all over the world specially Japan. The goal of choosing this dataset is to explore the global sales number of a video game based on the different attributes of the dataset and after exploring the dataset build a prediction model for the global sales number. This particular dataset provides all the necesary  information on all the attributes required to perform in depth analysis and  build the prediction model. To complete the analysis and the  prediciton model the dataset needs to be cleaned and properly formatted to perform various operations on the data.   \n",
        "\n",
        "Source of the dataset : https://www.kaggle.com/rush4ratio/video-game-sales-with-ratings"
      ]
    },
    {
      "cell_type": "markdown",
      "metadata": {
        "id": "UFyk1qd-hm-y",
        "colab_type": "text"
      },
      "source": [
        "**Obtaining Data**\n",
        "\n",
        "As the dataset comes in a .csv format and downloaded to the local drive as a zipped file. For uploading the dataset to this notebook the following libraries had be imported. Along with importing the dataset, these libraries such as pandas, numpy, matplotlib, seaborn also helps with properly formating the dataset and perform visualization of the dataset.\n"
      ]
    },
    {
      "cell_type": "code",
      "metadata": {
        "id": "wQ__ah9pI-pG",
        "colab_type": "code",
        "colab": {
          "base_uri": "https://localhost:8080/",
          "height": 71
        },
        "outputId": "6a33d708-f3a8-403e-9fe5-21102b634854"
      },
      "source": [
        "# importing libraries\n",
        "import numpy as np\n",
        "import pandas as pd\n",
        "import seaborn as sns\n",
        "from matplotlib import pyplot as plt\n",
        "%matplotlib inline\n",
        "\n",
        "from sklearn.linear_model import LogisticRegression\n",
        "from sklearn.metrics import confusion_matrix\n",
        "from sklearn.metrics import accuracy_score\n",
        "from sklearn.model_selection import train_test_split\n",
        "from sklearn.metrics import classification_report\n",
        "from  matplotlib import pyplot\n",
        "from sklearn.metrics import mean_squared_error, r2_score\n",
        "from sklearn.preprocessing import StandardScaler\n",
        "from sklearn.naive_bayes import MultinomialNB"
      ],
      "execution_count": 1,
      "outputs": [
        {
          "output_type": "stream",
          "text": [
            "/usr/local/lib/python3.6/dist-packages/statsmodels/tools/_testing.py:19: FutureWarning: pandas.util.testing is deprecated. Use the functions in the public API at pandas.testing instead.\n",
            "  import pandas.util.testing as tm\n"
          ],
          "name": "stderr"
        }
      ]
    },
    {
      "cell_type": "code",
      "metadata": {
        "id": "Yp5Xno2CcIZA",
        "colab_type": "code",
        "colab": {
          "base_uri": "https://localhost:8080/",
          "height": 105
        },
        "outputId": "60918841-b16f-4460-d3b3-bca41ffe27c1"
      },
      "source": [
        "!pip install brewer2mpl"
      ],
      "execution_count": 2,
      "outputs": [
        {
          "output_type": "stream",
          "text": [
            "Collecting brewer2mpl\n",
            "  Downloading https://files.pythonhosted.org/packages/84/57/00c45a199719e617db0875181134fcb3aeef701deae346547ac722eaaf5e/brewer2mpl-1.4.1-py2.py3-none-any.whl\n",
            "Installing collected packages: brewer2mpl\n",
            "Successfully installed brewer2mpl-1.4.1\n"
          ],
          "name": "stdout"
        }
      ]
    },
    {
      "cell_type": "code",
      "metadata": {
        "id": "umAo3Zm4c0f8",
        "colab_type": "code",
        "colab": {}
      },
      "source": [
        "from brewer2mpl import qualitative\n"
      ],
      "execution_count": 3,
      "outputs": []
    },
    {
      "cell_type": "code",
      "metadata": {
        "id": "rfDydPc7drJF",
        "colab_type": "code",
        "colab": {
          "resources": {
            "http://localhost:8080/nbextensions/google.colab/files.js": {
              "data": "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",
              "ok": true,
              "headers": [
                [
                  "content-type",
                  "application/javascript"
                ]
              ],
              "status": 200,
              "status_text": ""
            }
          },
          "base_uri": "https://localhost:8080/",
          "height": 72
        },
        "outputId": "22e8ff2a-e35a-4169-ea71-b520399107cf"
      },
      "source": [
        "from google.colab import files # for importing dataset form local drive to this notebook\n",
        "uploaded = files.upload()"
      ],
      "execution_count": 4,
      "outputs": [
        {
          "output_type": "display_data",
          "data": {
            "text/html": [
              "\n",
              "     <input type=\"file\" id=\"files-e7c6a8f3-9214-42b9-809e-e50064919481\" name=\"files[]\" multiple disabled\n",
              "        style=\"border:none\" />\n",
              "     <output id=\"result-e7c6a8f3-9214-42b9-809e-e50064919481\">\n",
              "      Upload widget is only available when the cell has been executed in the\n",
              "      current browser session. Please rerun this cell to enable.\n",
              "      </output>\n",
              "      <script src=\"/nbextensions/google.colab/files.js\"></script> "
            ],
            "text/plain": [
              "<IPython.core.display.HTML object>"
            ]
          },
          "metadata": {
            "tags": []
          }
        },
        {
          "output_type": "stream",
          "text": [
            "Saving Video_Games_Sales_as_at_22_Dec_2016.csv to Video_Games_Sales_as_at_22_Dec_2016.csv\n"
          ],
          "name": "stdout"
        }
      ]
    },
    {
      "cell_type": "code",
      "metadata": {
        "id": "-byV6c7bd4H1",
        "colab_type": "code",
        "colab": {}
      },
      "source": [
        "import io"
      ],
      "execution_count": 5,
      "outputs": []
    },
    {
      "cell_type": "markdown",
      "metadata": {
        "id": "Ooe4VaGejiBW",
        "colab_type": "text"
      },
      "source": [
        "**Formatting the Data** \n",
        "\n",
        "Now that the dataset has been uploaded to the notebook,  let's assign the dataset to a dataframe. This operation is done using the Pandas library which makes it easier to perform actions on dataset.  \n",
        "\n",
        "After formatting the dataset into dataframe format,we can see that there are 16718 rows and 16 columns. "
      ]
    },
    {
      "cell_type": "code",
      "metadata": {
        "id": "MQfcXW9oeZht",
        "colab_type": "code",
        "colab": {
          "base_uri": "https://localhost:8080/",
          "height": 609
        },
        "outputId": "51aa0f68-f329-4616-f071-686d95afba7b"
      },
      "source": [
        "data_game = pd.read_csv(io.BytesIO(uploaded['Video_Games_Sales_as_at_22_Dec_2016.csv'])) \n",
        "data_game"
      ],
      "execution_count": 6,
      "outputs": [
        {
          "output_type": "execute_result",
          "data": {
            "text/html": [
              "<div>\n",
              "<style scoped>\n",
              "    .dataframe tbody tr th:only-of-type {\n",
              "        vertical-align: middle;\n",
              "    }\n",
              "\n",
              "    .dataframe tbody tr th {\n",
              "        vertical-align: top;\n",
              "    }\n",
              "\n",
              "    .dataframe thead th {\n",
              "        text-align: right;\n",
              "    }\n",
              "</style>\n",
              "<table border=\"1\" class=\"dataframe\">\n",
              "  <thead>\n",
              "    <tr style=\"text-align: right;\">\n",
              "      <th></th>\n",
              "      <th>Name</th>\n",
              "      <th>Platform</th>\n",
              "      <th>Year_of_Release</th>\n",
              "      <th>Genre</th>\n",
              "      <th>Publisher</th>\n",
              "      <th>NA_Sales</th>\n",
              "      <th>EU_Sales</th>\n",
              "      <th>JP_Sales</th>\n",
              "      <th>Other_Sales</th>\n",
              "      <th>Global_Sales</th>\n",
              "      <th>Critic_Score</th>\n",
              "      <th>Critic_Count</th>\n",
              "      <th>User_Score</th>\n",
              "      <th>User_Count</th>\n",
              "      <th>Developer</th>\n",
              "      <th>Rating</th>\n",
              "    </tr>\n",
              "  </thead>\n",
              "  <tbody>\n",
              "    <tr>\n",
              "      <th>0</th>\n",
              "      <td>Wii Sports</td>\n",
              "      <td>Wii</td>\n",
              "      <td>2006.0</td>\n",
              "      <td>Sports</td>\n",
              "      <td>Nintendo</td>\n",
              "      <td>41.36</td>\n",
              "      <td>28.96</td>\n",
              "      <td>3.77</td>\n",
              "      <td>8.45</td>\n",
              "      <td>82.53</td>\n",
              "      <td>76.0</td>\n",
              "      <td>51.0</td>\n",
              "      <td>8</td>\n",
              "      <td>322.0</td>\n",
              "      <td>Nintendo</td>\n",
              "      <td>E</td>\n",
              "    </tr>\n",
              "    <tr>\n",
              "      <th>1</th>\n",
              "      <td>Super Mario Bros.</td>\n",
              "      <td>NES</td>\n",
              "      <td>1985.0</td>\n",
              "      <td>Platform</td>\n",
              "      <td>Nintendo</td>\n",
              "      <td>29.08</td>\n",
              "      <td>3.58</td>\n",
              "      <td>6.81</td>\n",
              "      <td>0.77</td>\n",
              "      <td>40.24</td>\n",
              "      <td>NaN</td>\n",
              "      <td>NaN</td>\n",
              "      <td>NaN</td>\n",
              "      <td>NaN</td>\n",
              "      <td>NaN</td>\n",
              "      <td>NaN</td>\n",
              "    </tr>\n",
              "    <tr>\n",
              "      <th>2</th>\n",
              "      <td>Mario Kart Wii</td>\n",
              "      <td>Wii</td>\n",
              "      <td>2008.0</td>\n",
              "      <td>Racing</td>\n",
              "      <td>Nintendo</td>\n",
              "      <td>15.68</td>\n",
              "      <td>12.76</td>\n",
              "      <td>3.79</td>\n",
              "      <td>3.29</td>\n",
              "      <td>35.52</td>\n",
              "      <td>82.0</td>\n",
              "      <td>73.0</td>\n",
              "      <td>8.3</td>\n",
              "      <td>709.0</td>\n",
              "      <td>Nintendo</td>\n",
              "      <td>E</td>\n",
              "    </tr>\n",
              "    <tr>\n",
              "      <th>3</th>\n",
              "      <td>Wii Sports Resort</td>\n",
              "      <td>Wii</td>\n",
              "      <td>2009.0</td>\n",
              "      <td>Sports</td>\n",
              "      <td>Nintendo</td>\n",
              "      <td>15.61</td>\n",
              "      <td>10.93</td>\n",
              "      <td>3.28</td>\n",
              "      <td>2.95</td>\n",
              "      <td>32.77</td>\n",
              "      <td>80.0</td>\n",
              "      <td>73.0</td>\n",
              "      <td>8</td>\n",
              "      <td>192.0</td>\n",
              "      <td>Nintendo</td>\n",
              "      <td>E</td>\n",
              "    </tr>\n",
              "    <tr>\n",
              "      <th>4</th>\n",
              "      <td>Pokemon Red/Pokemon Blue</td>\n",
              "      <td>GB</td>\n",
              "      <td>1996.0</td>\n",
              "      <td>Role-Playing</td>\n",
              "      <td>Nintendo</td>\n",
              "      <td>11.27</td>\n",
              "      <td>8.89</td>\n",
              "      <td>10.22</td>\n",
              "      <td>1.00</td>\n",
              "      <td>31.37</td>\n",
              "      <td>NaN</td>\n",
              "      <td>NaN</td>\n",
              "      <td>NaN</td>\n",
              "      <td>NaN</td>\n",
              "      <td>NaN</td>\n",
              "      <td>NaN</td>\n",
              "    </tr>\n",
              "    <tr>\n",
              "      <th>...</th>\n",
              "      <td>...</td>\n",
              "      <td>...</td>\n",
              "      <td>...</td>\n",
              "      <td>...</td>\n",
              "      <td>...</td>\n",
              "      <td>...</td>\n",
              "      <td>...</td>\n",
              "      <td>...</td>\n",
              "      <td>...</td>\n",
              "      <td>...</td>\n",
              "      <td>...</td>\n",
              "      <td>...</td>\n",
              "      <td>...</td>\n",
              "      <td>...</td>\n",
              "      <td>...</td>\n",
              "      <td>...</td>\n",
              "    </tr>\n",
              "    <tr>\n",
              "      <th>16714</th>\n",
              "      <td>Samurai Warriors: Sanada Maru</td>\n",
              "      <td>PS3</td>\n",
              "      <td>2016.0</td>\n",
              "      <td>Action</td>\n",
              "      <td>Tecmo Koei</td>\n",
              "      <td>0.00</td>\n",
              "      <td>0.00</td>\n",
              "      <td>0.01</td>\n",
              "      <td>0.00</td>\n",
              "      <td>0.01</td>\n",
              "      <td>NaN</td>\n",
              "      <td>NaN</td>\n",
              "      <td>NaN</td>\n",
              "      <td>NaN</td>\n",
              "      <td>NaN</td>\n",
              "      <td>NaN</td>\n",
              "    </tr>\n",
              "    <tr>\n",
              "      <th>16715</th>\n",
              "      <td>LMA Manager 2007</td>\n",
              "      <td>X360</td>\n",
              "      <td>2006.0</td>\n",
              "      <td>Sports</td>\n",
              "      <td>Codemasters</td>\n",
              "      <td>0.00</td>\n",
              "      <td>0.01</td>\n",
              "      <td>0.00</td>\n",
              "      <td>0.00</td>\n",
              "      <td>0.01</td>\n",
              "      <td>NaN</td>\n",
              "      <td>NaN</td>\n",
              "      <td>NaN</td>\n",
              "      <td>NaN</td>\n",
              "      <td>NaN</td>\n",
              "      <td>NaN</td>\n",
              "    </tr>\n",
              "    <tr>\n",
              "      <th>16716</th>\n",
              "      <td>Haitaka no Psychedelica</td>\n",
              "      <td>PSV</td>\n",
              "      <td>2016.0</td>\n",
              "      <td>Adventure</td>\n",
              "      <td>Idea Factory</td>\n",
              "      <td>0.00</td>\n",
              "      <td>0.00</td>\n",
              "      <td>0.01</td>\n",
              "      <td>0.00</td>\n",
              "      <td>0.01</td>\n",
              "      <td>NaN</td>\n",
              "      <td>NaN</td>\n",
              "      <td>NaN</td>\n",
              "      <td>NaN</td>\n",
              "      <td>NaN</td>\n",
              "      <td>NaN</td>\n",
              "    </tr>\n",
              "    <tr>\n",
              "      <th>16717</th>\n",
              "      <td>Spirits &amp; Spells</td>\n",
              "      <td>GBA</td>\n",
              "      <td>2003.0</td>\n",
              "      <td>Platform</td>\n",
              "      <td>Wanadoo</td>\n",
              "      <td>0.01</td>\n",
              "      <td>0.00</td>\n",
              "      <td>0.00</td>\n",
              "      <td>0.00</td>\n",
              "      <td>0.01</td>\n",
              "      <td>NaN</td>\n",
              "      <td>NaN</td>\n",
              "      <td>NaN</td>\n",
              "      <td>NaN</td>\n",
              "      <td>NaN</td>\n",
              "      <td>NaN</td>\n",
              "    </tr>\n",
              "    <tr>\n",
              "      <th>16718</th>\n",
              "      <td>Winning Post 8 2016</td>\n",
              "      <td>PSV</td>\n",
              "      <td>2016.0</td>\n",
              "      <td>Simulation</td>\n",
              "      <td>Tecmo Koei</td>\n",
              "      <td>0.00</td>\n",
              "      <td>0.00</td>\n",
              "      <td>0.01</td>\n",
              "      <td>0.00</td>\n",
              "      <td>0.01</td>\n",
              "      <td>NaN</td>\n",
              "      <td>NaN</td>\n",
              "      <td>NaN</td>\n",
              "      <td>NaN</td>\n",
              "      <td>NaN</td>\n",
              "      <td>NaN</td>\n",
              "    </tr>\n",
              "  </tbody>\n",
              "</table>\n",
              "<p>16719 rows × 16 columns</p>\n",
              "</div>"
            ],
            "text/plain": [
              "                                Name Platform  ...  Developer Rating\n",
              "0                         Wii Sports      Wii  ...   Nintendo      E\n",
              "1                  Super Mario Bros.      NES  ...        NaN    NaN\n",
              "2                     Mario Kart Wii      Wii  ...   Nintendo      E\n",
              "3                  Wii Sports Resort      Wii  ...   Nintendo      E\n",
              "4           Pokemon Red/Pokemon Blue       GB  ...        NaN    NaN\n",
              "...                              ...      ...  ...        ...    ...\n",
              "16714  Samurai Warriors: Sanada Maru      PS3  ...        NaN    NaN\n",
              "16715               LMA Manager 2007     X360  ...        NaN    NaN\n",
              "16716        Haitaka no Psychedelica      PSV  ...        NaN    NaN\n",
              "16717               Spirits & Spells      GBA  ...        NaN    NaN\n",
              "16718            Winning Post 8 2016      PSV  ...        NaN    NaN\n",
              "\n",
              "[16719 rows x 16 columns]"
            ]
          },
          "metadata": {
            "tags": []
          },
          "execution_count": 6
        }
      ]
    },
    {
      "cell_type": "markdown",
      "metadata": {
        "id": "3eZItBDQmCwi",
        "colab_type": "text"
      },
      "source": [
        "To avoid any error, it is a better practice to make sure that the dataset does not contain any null values. Therefore, all the rows that contains any null values are dropped."
      ]
    },
    {
      "cell_type": "code",
      "metadata": {
        "id": "6A2plBnqS_Mo",
        "colab_type": "code",
        "colab": {
          "base_uri": "https://localhost:8080/",
          "height": 306
        },
        "outputId": "e972c075-d39b-4bff-b728-7867e83d9afa"
      },
      "source": [
        "data_game.dropna()\n",
        "pd.isnull(data_game).sum() > 0"
      ],
      "execution_count": 7,
      "outputs": [
        {
          "output_type": "execute_result",
          "data": {
            "text/plain": [
              "Name                True\n",
              "Platform           False\n",
              "Year_of_Release     True\n",
              "Genre               True\n",
              "Publisher           True\n",
              "NA_Sales           False\n",
              "EU_Sales           False\n",
              "JP_Sales           False\n",
              "Other_Sales        False\n",
              "Global_Sales       False\n",
              "Critic_Score        True\n",
              "Critic_Count        True\n",
              "User_Score          True\n",
              "User_Count          True\n",
              "Developer           True\n",
              "Rating              True\n",
              "dtype: bool"
            ]
          },
          "metadata": {
            "tags": []
          },
          "execution_count": 7
        }
      ]
    },
    {
      "cell_type": "code",
      "metadata": {
        "colab_type": "code",
        "id": "UAqmvc4loY9Y",
        "colab": {}
      },
      "source": [
        "data_game = data_game[data_game[\"Critic_Score\"].notnull()]\n",
        "data_game = data_game[data_game[\"User_Score\"].notnull()]\n",
        "data_game = data_game[data_game[\"Genre\"].notnull()]\n",
        "data_game = data_game[data_game[\"NA_Sales\"].notnull()]\n",
        "data_game = data_game[data_game[\"EU_Sales\"].notnull()]\n",
        "data_game = data_game[data_game[\"JP_Sales\"].notnull()]\n",
        "data_game = data_game[data_game[\"Other_Sales\"].notnull()]\n",
        "data_game = data_game[data_game[\"Global_Sales\"].notnull()]\n",
        "data_game = data_game[data_game[\"Developer\"].notnull()]\n",
        "data_game = data_game[data_game[\"Rating\"].notnull()]\n",
        "data_game = data_game[data_game[\"Publisher\"].notnull()]\n",
        "data_game = data_game[data_game[\"Genre\"].notnull()]\n",
        "data_game = data_game[data_game[\"Year_of_Release\"].notnull()]\n",
        "data_game = data_game[data_game[\"Platform\"].notnull()]\n",
        "data_game = data_game[data_game[\"Name\"].notnull()]"
      ],
      "execution_count": 8,
      "outputs": []
    },
    {
      "cell_type": "markdown",
      "metadata": {
        "id": "EprFhB_02phY",
        "colab_type": "text"
      },
      "source": [
        "**Exploratory Data Analysis**\n",
        "\n",
        "As mentioned earlier, the goal is to predict the global sales number, therefore, we do not need most of the columns in the dataset. But before removing them I'd like to find out the global sales number based on the some of the attributes. \n",
        "\n",
        "Now, let's check the type of data that are being represented in each attributes. So that if needed we can change data type to our preference. "
      ]
    },
    {
      "cell_type": "code",
      "metadata": {
        "id": "DMPlt3iW1yih",
        "colab_type": "code",
        "colab": {
          "base_uri": "https://localhost:8080/",
          "height": 408
        },
        "outputId": "278418ba-172b-4ac1-e2d5-a218cdfbf30b"
      },
      "source": [
        "data_game.info()"
      ],
      "execution_count": 9,
      "outputs": [
        {
          "output_type": "stream",
          "text": [
            "<class 'pandas.core.frame.DataFrame'>\n",
            "Int64Index: 7877 entries, 0 to 16706\n",
            "Data columns (total 16 columns):\n",
            " #   Column           Non-Null Count  Dtype  \n",
            "---  ------           --------------  -----  \n",
            " 0   Name             7877 non-null   object \n",
            " 1   Platform         7877 non-null   object \n",
            " 2   Year_of_Release  7877 non-null   float64\n",
            " 3   Genre            7877 non-null   object \n",
            " 4   Publisher        7877 non-null   object \n",
            " 5   NA_Sales         7877 non-null   float64\n",
            " 6   EU_Sales         7877 non-null   float64\n",
            " 7   JP_Sales         7877 non-null   float64\n",
            " 8   Other_Sales      7877 non-null   float64\n",
            " 9   Global_Sales     7877 non-null   float64\n",
            " 10  Critic_Score     7877 non-null   float64\n",
            " 11  Critic_Count     7877 non-null   float64\n",
            " 12  User_Score       7877 non-null   object \n",
            " 13  User_Count       6825 non-null   float64\n",
            " 14  Developer        7877 non-null   object \n",
            " 15  Rating           7877 non-null   object \n",
            "dtypes: float64(9), object(7)\n",
            "memory usage: 1.0+ MB\n"
          ],
          "name": "stdout"
        }
      ]
    },
    {
      "cell_type": "markdown",
      "metadata": {
        "id": "sj83BNwVv0fp",
        "colab_type": "text"
      },
      "source": [
        "Now, see what is the dimension of the dataset after the initial cleaning. The dimension is 7877, 16 meaning there are 7877 rows and 16 columns in the dataset."
      ]
    },
    {
      "cell_type": "code",
      "metadata": {
        "id": "GL7tXCMYuSKf",
        "colab_type": "code",
        "colab": {
          "base_uri": "https://localhost:8080/",
          "height": 34
        },
        "outputId": "608fb378-b71e-40a9-ef2e-aa704d77d530"
      },
      "source": [
        "#dimension of the dataset\n",
        "data_game.shape"
      ],
      "execution_count": 10,
      "outputs": [
        {
          "output_type": "execute_result",
          "data": {
            "text/plain": [
              "(7877, 16)"
            ]
          },
          "metadata": {
            "tags": []
          },
          "execution_count": 10
        }
      ]
    },
    {
      "cell_type": "markdown",
      "metadata": {
        "id": "0RKDJRmAu02Y",
        "colab_type": "text"
      },
      "source": [
        "To find out if there are any anomalies in the dataset even after cleaning lets take a look the first 10 rows and last 10 rows of the dataset. Which shows that there are no anomalies or any odd points in the dataset."
      ]
    },
    {
      "cell_type": "code",
      "metadata": {
        "id": "mMiMnHjczJ-h",
        "colab_type": "code",
        "colab": {
          "base_uri": "https://localhost:8080/",
          "height": 515
        },
        "outputId": "8cf3c451-1b2a-441f-c101-6ead21bdb9f2"
      },
      "source": [
        "data_game.head(10)"
      ],
      "execution_count": 11,
      "outputs": [
        {
          "output_type": "execute_result",
          "data": {
            "text/html": [
              "<div>\n",
              "<style scoped>\n",
              "    .dataframe tbody tr th:only-of-type {\n",
              "        vertical-align: middle;\n",
              "    }\n",
              "\n",
              "    .dataframe tbody tr th {\n",
              "        vertical-align: top;\n",
              "    }\n",
              "\n",
              "    .dataframe thead th {\n",
              "        text-align: right;\n",
              "    }\n",
              "</style>\n",
              "<table border=\"1\" class=\"dataframe\">\n",
              "  <thead>\n",
              "    <tr style=\"text-align: right;\">\n",
              "      <th></th>\n",
              "      <th>Name</th>\n",
              "      <th>Platform</th>\n",
              "      <th>Year_of_Release</th>\n",
              "      <th>Genre</th>\n",
              "      <th>Publisher</th>\n",
              "      <th>NA_Sales</th>\n",
              "      <th>EU_Sales</th>\n",
              "      <th>JP_Sales</th>\n",
              "      <th>Other_Sales</th>\n",
              "      <th>Global_Sales</th>\n",
              "      <th>Critic_Score</th>\n",
              "      <th>Critic_Count</th>\n",
              "      <th>User_Score</th>\n",
              "      <th>User_Count</th>\n",
              "      <th>Developer</th>\n",
              "      <th>Rating</th>\n",
              "    </tr>\n",
              "  </thead>\n",
              "  <tbody>\n",
              "    <tr>\n",
              "      <th>0</th>\n",
              "      <td>Wii Sports</td>\n",
              "      <td>Wii</td>\n",
              "      <td>2006.0</td>\n",
              "      <td>Sports</td>\n",
              "      <td>Nintendo</td>\n",
              "      <td>41.36</td>\n",
              "      <td>28.96</td>\n",
              "      <td>3.77</td>\n",
              "      <td>8.45</td>\n",
              "      <td>82.53</td>\n",
              "      <td>76.0</td>\n",
              "      <td>51.0</td>\n",
              "      <td>8</td>\n",
              "      <td>322.0</td>\n",
              "      <td>Nintendo</td>\n",
              "      <td>E</td>\n",
              "    </tr>\n",
              "    <tr>\n",
              "      <th>2</th>\n",
              "      <td>Mario Kart Wii</td>\n",
              "      <td>Wii</td>\n",
              "      <td>2008.0</td>\n",
              "      <td>Racing</td>\n",
              "      <td>Nintendo</td>\n",
              "      <td>15.68</td>\n",
              "      <td>12.76</td>\n",
              "      <td>3.79</td>\n",
              "      <td>3.29</td>\n",
              "      <td>35.52</td>\n",
              "      <td>82.0</td>\n",
              "      <td>73.0</td>\n",
              "      <td>8.3</td>\n",
              "      <td>709.0</td>\n",
              "      <td>Nintendo</td>\n",
              "      <td>E</td>\n",
              "    </tr>\n",
              "    <tr>\n",
              "      <th>3</th>\n",
              "      <td>Wii Sports Resort</td>\n",
              "      <td>Wii</td>\n",
              "      <td>2009.0</td>\n",
              "      <td>Sports</td>\n",
              "      <td>Nintendo</td>\n",
              "      <td>15.61</td>\n",
              "      <td>10.93</td>\n",
              "      <td>3.28</td>\n",
              "      <td>2.95</td>\n",
              "      <td>32.77</td>\n",
              "      <td>80.0</td>\n",
              "      <td>73.0</td>\n",
              "      <td>8</td>\n",
              "      <td>192.0</td>\n",
              "      <td>Nintendo</td>\n",
              "      <td>E</td>\n",
              "    </tr>\n",
              "    <tr>\n",
              "      <th>6</th>\n",
              "      <td>New Super Mario Bros.</td>\n",
              "      <td>DS</td>\n",
              "      <td>2006.0</td>\n",
              "      <td>Platform</td>\n",
              "      <td>Nintendo</td>\n",
              "      <td>11.28</td>\n",
              "      <td>9.14</td>\n",
              "      <td>6.50</td>\n",
              "      <td>2.88</td>\n",
              "      <td>29.80</td>\n",
              "      <td>89.0</td>\n",
              "      <td>65.0</td>\n",
              "      <td>8.5</td>\n",
              "      <td>431.0</td>\n",
              "      <td>Nintendo</td>\n",
              "      <td>E</td>\n",
              "    </tr>\n",
              "    <tr>\n",
              "      <th>7</th>\n",
              "      <td>Wii Play</td>\n",
              "      <td>Wii</td>\n",
              "      <td>2006.0</td>\n",
              "      <td>Misc</td>\n",
              "      <td>Nintendo</td>\n",
              "      <td>13.96</td>\n",
              "      <td>9.18</td>\n",
              "      <td>2.93</td>\n",
              "      <td>2.84</td>\n",
              "      <td>28.92</td>\n",
              "      <td>58.0</td>\n",
              "      <td>41.0</td>\n",
              "      <td>6.6</td>\n",
              "      <td>129.0</td>\n",
              "      <td>Nintendo</td>\n",
              "      <td>E</td>\n",
              "    </tr>\n",
              "    <tr>\n",
              "      <th>8</th>\n",
              "      <td>New Super Mario Bros. Wii</td>\n",
              "      <td>Wii</td>\n",
              "      <td>2009.0</td>\n",
              "      <td>Platform</td>\n",
              "      <td>Nintendo</td>\n",
              "      <td>14.44</td>\n",
              "      <td>6.94</td>\n",
              "      <td>4.70</td>\n",
              "      <td>2.24</td>\n",
              "      <td>28.32</td>\n",
              "      <td>87.0</td>\n",
              "      <td>80.0</td>\n",
              "      <td>8.4</td>\n",
              "      <td>594.0</td>\n",
              "      <td>Nintendo</td>\n",
              "      <td>E</td>\n",
              "    </tr>\n",
              "    <tr>\n",
              "      <th>11</th>\n",
              "      <td>Mario Kart DS</td>\n",
              "      <td>DS</td>\n",
              "      <td>2005.0</td>\n",
              "      <td>Racing</td>\n",
              "      <td>Nintendo</td>\n",
              "      <td>9.71</td>\n",
              "      <td>7.47</td>\n",
              "      <td>4.13</td>\n",
              "      <td>1.90</td>\n",
              "      <td>23.21</td>\n",
              "      <td>91.0</td>\n",
              "      <td>64.0</td>\n",
              "      <td>8.6</td>\n",
              "      <td>464.0</td>\n",
              "      <td>Nintendo</td>\n",
              "      <td>E</td>\n",
              "    </tr>\n",
              "    <tr>\n",
              "      <th>13</th>\n",
              "      <td>Wii Fit</td>\n",
              "      <td>Wii</td>\n",
              "      <td>2007.0</td>\n",
              "      <td>Sports</td>\n",
              "      <td>Nintendo</td>\n",
              "      <td>8.92</td>\n",
              "      <td>8.03</td>\n",
              "      <td>3.60</td>\n",
              "      <td>2.15</td>\n",
              "      <td>22.70</td>\n",
              "      <td>80.0</td>\n",
              "      <td>63.0</td>\n",
              "      <td>7.7</td>\n",
              "      <td>146.0</td>\n",
              "      <td>Nintendo</td>\n",
              "      <td>E</td>\n",
              "    </tr>\n",
              "    <tr>\n",
              "      <th>14</th>\n",
              "      <td>Kinect Adventures!</td>\n",
              "      <td>X360</td>\n",
              "      <td>2010.0</td>\n",
              "      <td>Misc</td>\n",
              "      <td>Microsoft Game Studios</td>\n",
              "      <td>15.00</td>\n",
              "      <td>4.89</td>\n",
              "      <td>0.24</td>\n",
              "      <td>1.69</td>\n",
              "      <td>21.81</td>\n",
              "      <td>61.0</td>\n",
              "      <td>45.0</td>\n",
              "      <td>6.3</td>\n",
              "      <td>106.0</td>\n",
              "      <td>Good Science Studio</td>\n",
              "      <td>E</td>\n",
              "    </tr>\n",
              "    <tr>\n",
              "      <th>15</th>\n",
              "      <td>Wii Fit Plus</td>\n",
              "      <td>Wii</td>\n",
              "      <td>2009.0</td>\n",
              "      <td>Sports</td>\n",
              "      <td>Nintendo</td>\n",
              "      <td>9.01</td>\n",
              "      <td>8.49</td>\n",
              "      <td>2.53</td>\n",
              "      <td>1.77</td>\n",
              "      <td>21.79</td>\n",
              "      <td>80.0</td>\n",
              "      <td>33.0</td>\n",
              "      <td>7.4</td>\n",
              "      <td>52.0</td>\n",
              "      <td>Nintendo</td>\n",
              "      <td>E</td>\n",
              "    </tr>\n",
              "  </tbody>\n",
              "</table>\n",
              "</div>"
            ],
            "text/plain": [
              "                         Name Platform  ...            Developer Rating\n",
              "0                  Wii Sports      Wii  ...             Nintendo      E\n",
              "2              Mario Kart Wii      Wii  ...             Nintendo      E\n",
              "3           Wii Sports Resort      Wii  ...             Nintendo      E\n",
              "6       New Super Mario Bros.       DS  ...             Nintendo      E\n",
              "7                    Wii Play      Wii  ...             Nintendo      E\n",
              "8   New Super Mario Bros. Wii      Wii  ...             Nintendo      E\n",
              "11              Mario Kart DS       DS  ...             Nintendo      E\n",
              "13                    Wii Fit      Wii  ...             Nintendo      E\n",
              "14         Kinect Adventures!     X360  ...  Good Science Studio      E\n",
              "15               Wii Fit Plus      Wii  ...             Nintendo      E\n",
              "\n",
              "[10 rows x 16 columns]"
            ]
          },
          "metadata": {
            "tags": []
          },
          "execution_count": 11
        }
      ]
    },
    {
      "cell_type": "code",
      "metadata": {
        "id": "Fz0psWNEvib3",
        "colab_type": "code",
        "colab": {
          "base_uri": "https://localhost:8080/",
          "height": 736
        },
        "outputId": "d392e9b3-3d41-405b-f378-b5c0c6ce65a4"
      },
      "source": [
        "data_game.tail(10)"
      ],
      "execution_count": 12,
      "outputs": [
        {
          "output_type": "execute_result",
          "data": {
            "text/html": [
              "<div>\n",
              "<style scoped>\n",
              "    .dataframe tbody tr th:only-of-type {\n",
              "        vertical-align: middle;\n",
              "    }\n",
              "\n",
              "    .dataframe tbody tr th {\n",
              "        vertical-align: top;\n",
              "    }\n",
              "\n",
              "    .dataframe thead th {\n",
              "        text-align: right;\n",
              "    }\n",
              "</style>\n",
              "<table border=\"1\" class=\"dataframe\">\n",
              "  <thead>\n",
              "    <tr style=\"text-align: right;\">\n",
              "      <th></th>\n",
              "      <th>Name</th>\n",
              "      <th>Platform</th>\n",
              "      <th>Year_of_Release</th>\n",
              "      <th>Genre</th>\n",
              "      <th>Publisher</th>\n",
              "      <th>NA_Sales</th>\n",
              "      <th>EU_Sales</th>\n",
              "      <th>JP_Sales</th>\n",
              "      <th>Other_Sales</th>\n",
              "      <th>Global_Sales</th>\n",
              "      <th>Critic_Score</th>\n",
              "      <th>Critic_Count</th>\n",
              "      <th>User_Score</th>\n",
              "      <th>User_Count</th>\n",
              "      <th>Developer</th>\n",
              "      <th>Rating</th>\n",
              "    </tr>\n",
              "  </thead>\n",
              "  <tbody>\n",
              "    <tr>\n",
              "      <th>16656</th>\n",
              "      <td>Fast Racing Neo</td>\n",
              "      <td>WiiU</td>\n",
              "      <td>2016.0</td>\n",
              "      <td>Action</td>\n",
              "      <td>Nintendo</td>\n",
              "      <td>0.00</td>\n",
              "      <td>0.01</td>\n",
              "      <td>0.0</td>\n",
              "      <td>0.0</td>\n",
              "      <td>0.01</td>\n",
              "      <td>81.0</td>\n",
              "      <td>46.0</td>\n",
              "      <td>8.5</td>\n",
              "      <td>151.0</td>\n",
              "      <td>Shin'en</td>\n",
              "      <td>E</td>\n",
              "    </tr>\n",
              "    <tr>\n",
              "      <th>16667</th>\n",
              "      <td>E.T. The Extra-Terrestrial</td>\n",
              "      <td>GBA</td>\n",
              "      <td>2001.0</td>\n",
              "      <td>Action</td>\n",
              "      <td>NewKidCo</td>\n",
              "      <td>0.01</td>\n",
              "      <td>0.00</td>\n",
              "      <td>0.0</td>\n",
              "      <td>0.0</td>\n",
              "      <td>0.01</td>\n",
              "      <td>46.0</td>\n",
              "      <td>4.0</td>\n",
              "      <td>2.4</td>\n",
              "      <td>21.0</td>\n",
              "      <td>Fluid Studios</td>\n",
              "      <td>E</td>\n",
              "    </tr>\n",
              "    <tr>\n",
              "      <th>16673</th>\n",
              "      <td>Super Robot Taisen: Original Generation</td>\n",
              "      <td>GBA</td>\n",
              "      <td>2002.0</td>\n",
              "      <td>Role-Playing</td>\n",
              "      <td>Banpresto</td>\n",
              "      <td>0.01</td>\n",
              "      <td>0.00</td>\n",
              "      <td>0.0</td>\n",
              "      <td>0.0</td>\n",
              "      <td>0.01</td>\n",
              "      <td>72.0</td>\n",
              "      <td>13.0</td>\n",
              "      <td>tbd</td>\n",
              "      <td>NaN</td>\n",
              "      <td>Banpresto</td>\n",
              "      <td>T</td>\n",
              "    </tr>\n",
              "    <tr>\n",
              "      <th>16677</th>\n",
              "      <td>Mortal Kombat: Deadly Alliance</td>\n",
              "      <td>GBA</td>\n",
              "      <td>2002.0</td>\n",
              "      <td>Fighting</td>\n",
              "      <td>Midway Games</td>\n",
              "      <td>0.01</td>\n",
              "      <td>0.00</td>\n",
              "      <td>0.0</td>\n",
              "      <td>0.0</td>\n",
              "      <td>0.01</td>\n",
              "      <td>81.0</td>\n",
              "      <td>12.0</td>\n",
              "      <td>8.8</td>\n",
              "      <td>9.0</td>\n",
              "      <td>Criterion Games</td>\n",
              "      <td>M</td>\n",
              "    </tr>\n",
              "    <tr>\n",
              "      <th>16696</th>\n",
              "      <td>Metal Gear Solid V: Ground Zeroes</td>\n",
              "      <td>PC</td>\n",
              "      <td>2014.0</td>\n",
              "      <td>Action</td>\n",
              "      <td>Konami Digital Entertainment</td>\n",
              "      <td>0.00</td>\n",
              "      <td>0.01</td>\n",
              "      <td>0.0</td>\n",
              "      <td>0.0</td>\n",
              "      <td>0.01</td>\n",
              "      <td>80.0</td>\n",
              "      <td>20.0</td>\n",
              "      <td>7.6</td>\n",
              "      <td>412.0</td>\n",
              "      <td>Kojima Productions</td>\n",
              "      <td>M</td>\n",
              "    </tr>\n",
              "    <tr>\n",
              "      <th>16699</th>\n",
              "      <td>Planet Monsters</td>\n",
              "      <td>GBA</td>\n",
              "      <td>2001.0</td>\n",
              "      <td>Action</td>\n",
              "      <td>Titus</td>\n",
              "      <td>0.01</td>\n",
              "      <td>0.00</td>\n",
              "      <td>0.0</td>\n",
              "      <td>0.0</td>\n",
              "      <td>0.01</td>\n",
              "      <td>67.0</td>\n",
              "      <td>9.0</td>\n",
              "      <td>tbd</td>\n",
              "      <td>NaN</td>\n",
              "      <td>Planet Interactive</td>\n",
              "      <td>E</td>\n",
              "    </tr>\n",
              "    <tr>\n",
              "      <th>16700</th>\n",
              "      <td>Breach</td>\n",
              "      <td>PC</td>\n",
              "      <td>2011.0</td>\n",
              "      <td>Shooter</td>\n",
              "      <td>Destineer</td>\n",
              "      <td>0.01</td>\n",
              "      <td>0.00</td>\n",
              "      <td>0.0</td>\n",
              "      <td>0.0</td>\n",
              "      <td>0.01</td>\n",
              "      <td>61.0</td>\n",
              "      <td>12.0</td>\n",
              "      <td>5.8</td>\n",
              "      <td>43.0</td>\n",
              "      <td>Atomic Games</td>\n",
              "      <td>T</td>\n",
              "    </tr>\n",
              "    <tr>\n",
              "      <th>16701</th>\n",
              "      <td>Bust-A-Move 3000</td>\n",
              "      <td>GC</td>\n",
              "      <td>2003.0</td>\n",
              "      <td>Puzzle</td>\n",
              "      <td>Ubisoft</td>\n",
              "      <td>0.01</td>\n",
              "      <td>0.00</td>\n",
              "      <td>0.0</td>\n",
              "      <td>0.0</td>\n",
              "      <td>0.01</td>\n",
              "      <td>53.0</td>\n",
              "      <td>4.0</td>\n",
              "      <td>tbd</td>\n",
              "      <td>NaN</td>\n",
              "      <td>Taito Corporation</td>\n",
              "      <td>E</td>\n",
              "    </tr>\n",
              "    <tr>\n",
              "      <th>16702</th>\n",
              "      <td>Mega Brain Boost</td>\n",
              "      <td>DS</td>\n",
              "      <td>2008.0</td>\n",
              "      <td>Puzzle</td>\n",
              "      <td>Majesco Entertainment</td>\n",
              "      <td>0.01</td>\n",
              "      <td>0.00</td>\n",
              "      <td>0.0</td>\n",
              "      <td>0.0</td>\n",
              "      <td>0.01</td>\n",
              "      <td>48.0</td>\n",
              "      <td>10.0</td>\n",
              "      <td>tbd</td>\n",
              "      <td>NaN</td>\n",
              "      <td>Interchannel-Holon</td>\n",
              "      <td>E</td>\n",
              "    </tr>\n",
              "    <tr>\n",
              "      <th>16706</th>\n",
              "      <td>STORM: Frontline Nation</td>\n",
              "      <td>PC</td>\n",
              "      <td>2011.0</td>\n",
              "      <td>Strategy</td>\n",
              "      <td>Unknown</td>\n",
              "      <td>0.00</td>\n",
              "      <td>0.01</td>\n",
              "      <td>0.0</td>\n",
              "      <td>0.0</td>\n",
              "      <td>0.01</td>\n",
              "      <td>60.0</td>\n",
              "      <td>12.0</td>\n",
              "      <td>7.2</td>\n",
              "      <td>13.0</td>\n",
              "      <td>SimBin</td>\n",
              "      <td>E10+</td>\n",
              "    </tr>\n",
              "  </tbody>\n",
              "</table>\n",
              "</div>"
            ],
            "text/plain": [
              "                                          Name  ... Rating\n",
              "16656                         Fast Racing Neo   ...      E\n",
              "16667               E.T. The Extra-Terrestrial  ...      E\n",
              "16673  Super Robot Taisen: Original Generation  ...      T\n",
              "16677           Mortal Kombat: Deadly Alliance  ...      M\n",
              "16696        Metal Gear Solid V: Ground Zeroes  ...      M\n",
              "16699                          Planet Monsters  ...      E\n",
              "16700                                   Breach  ...      T\n",
              "16701                         Bust-A-Move 3000  ...      E\n",
              "16702                         Mega Brain Boost  ...      E\n",
              "16706                  STORM: Frontline Nation  ...   E10+\n",
              "\n",
              "[10 rows x 16 columns]"
            ]
          },
          "metadata": {
            "tags": []
          },
          "execution_count": 12
        }
      ]
    },
    {
      "cell_type": "markdown",
      "metadata": {
        "id": "U7dKbT59wOkq",
        "colab_type": "text"
      },
      "source": [
        "As the dataset contains a number of numeric data, lets take a look at the overview of the numeric attributes using the describe() function. The describe() function gives a statistical overview the numerical attributes. It includes the total count, maximum and minimum values and the average value of each numerical attributes."
      ]
    },
    {
      "cell_type": "code",
      "metadata": {
        "id": "Rb8WEjUa4Wdw",
        "colab_type": "code",
        "colab": {
          "base_uri": "https://localhost:8080/",
          "height": 427
        },
        "outputId": "009f60bf-675a-42ad-9019-17725667e836"
      },
      "source": [
        "data_game.describe(include = \"all\")"
      ],
      "execution_count": 13,
      "outputs": [
        {
          "output_type": "execute_result",
          "data": {
            "text/html": [
              "<div>\n",
              "<style scoped>\n",
              "    .dataframe tbody tr th:only-of-type {\n",
              "        vertical-align: middle;\n",
              "    }\n",
              "\n",
              "    .dataframe tbody tr th {\n",
              "        vertical-align: top;\n",
              "    }\n",
              "\n",
              "    .dataframe thead th {\n",
              "        text-align: right;\n",
              "    }\n",
              "</style>\n",
              "<table border=\"1\" class=\"dataframe\">\n",
              "  <thead>\n",
              "    <tr style=\"text-align: right;\">\n",
              "      <th></th>\n",
              "      <th>Name</th>\n",
              "      <th>Platform</th>\n",
              "      <th>Year_of_Release</th>\n",
              "      <th>Genre</th>\n",
              "      <th>Publisher</th>\n",
              "      <th>NA_Sales</th>\n",
              "      <th>EU_Sales</th>\n",
              "      <th>JP_Sales</th>\n",
              "      <th>Other_Sales</th>\n",
              "      <th>Global_Sales</th>\n",
              "      <th>Critic_Score</th>\n",
              "      <th>Critic_Count</th>\n",
              "      <th>User_Score</th>\n",
              "      <th>User_Count</th>\n",
              "      <th>Developer</th>\n",
              "      <th>Rating</th>\n",
              "    </tr>\n",
              "  </thead>\n",
              "  <tbody>\n",
              "    <tr>\n",
              "      <th>count</th>\n",
              "      <td>7877</td>\n",
              "      <td>7877</td>\n",
              "      <td>7877.000000</td>\n",
              "      <td>7877</td>\n",
              "      <td>7877</td>\n",
              "      <td>7877.000000</td>\n",
              "      <td>7877.000000</td>\n",
              "      <td>7877.000000</td>\n",
              "      <td>7877.000000</td>\n",
              "      <td>7877.000000</td>\n",
              "      <td>7877.000000</td>\n",
              "      <td>7877.000000</td>\n",
              "      <td>7877</td>\n",
              "      <td>6825.000000</td>\n",
              "      <td>7877</td>\n",
              "      <td>7877</td>\n",
              "    </tr>\n",
              "    <tr>\n",
              "      <th>unique</th>\n",
              "      <td>4959</td>\n",
              "      <td>17</td>\n",
              "      <td>NaN</td>\n",
              "      <td>12</td>\n",
              "      <td>292</td>\n",
              "      <td>NaN</td>\n",
              "      <td>NaN</td>\n",
              "      <td>NaN</td>\n",
              "      <td>NaN</td>\n",
              "      <td>NaN</td>\n",
              "      <td>NaN</td>\n",
              "      <td>NaN</td>\n",
              "      <td>90</td>\n",
              "      <td>NaN</td>\n",
              "      <td>1435</td>\n",
              "      <td>7</td>\n",
              "    </tr>\n",
              "    <tr>\n",
              "      <th>top</th>\n",
              "      <td>Cars</td>\n",
              "      <td>PS2</td>\n",
              "      <td>NaN</td>\n",
              "      <td>Action</td>\n",
              "      <td>Electronic Arts</td>\n",
              "      <td>NaN</td>\n",
              "      <td>NaN</td>\n",
              "      <td>NaN</td>\n",
              "      <td>NaN</td>\n",
              "      <td>NaN</td>\n",
              "      <td>NaN</td>\n",
              "      <td>NaN</td>\n",
              "      <td>tbd</td>\n",
              "      <td>NaN</td>\n",
              "      <td>EA Canada</td>\n",
              "      <td>E</td>\n",
              "    </tr>\n",
              "    <tr>\n",
              "      <th>freq</th>\n",
              "      <td>8</td>\n",
              "      <td>1275</td>\n",
              "      <td>NaN</td>\n",
              "      <td>1832</td>\n",
              "      <td>1012</td>\n",
              "      <td>NaN</td>\n",
              "      <td>NaN</td>\n",
              "      <td>NaN</td>\n",
              "      <td>NaN</td>\n",
              "      <td>NaN</td>\n",
              "      <td>NaN</td>\n",
              "      <td>NaN</td>\n",
              "      <td>1052</td>\n",
              "      <td>NaN</td>\n",
              "      <td>155</td>\n",
              "      <td>2738</td>\n",
              "    </tr>\n",
              "    <tr>\n",
              "      <th>mean</th>\n",
              "      <td>NaN</td>\n",
              "      <td>NaN</td>\n",
              "      <td>2007.158817</td>\n",
              "      <td>NaN</td>\n",
              "      <td>NaN</td>\n",
              "      <td>0.357915</td>\n",
              "      <td>0.211217</td>\n",
              "      <td>0.056213</td>\n",
              "      <td>0.073688</td>\n",
              "      <td>0.699313</td>\n",
              "      <td>69.001396</td>\n",
              "      <td>26.562778</td>\n",
              "      <td>NaN</td>\n",
              "      <td>174.722344</td>\n",
              "      <td>NaN</td>\n",
              "      <td>NaN</td>\n",
              "    </tr>\n",
              "    <tr>\n",
              "      <th>std</th>\n",
              "      <td>NaN</td>\n",
              "      <td>NaN</td>\n",
              "      <td>4.157335</td>\n",
              "      <td>NaN</td>\n",
              "      <td>NaN</td>\n",
              "      <td>0.907291</td>\n",
              "      <td>0.644077</td>\n",
              "      <td>0.268787</td>\n",
              "      <td>0.252821</td>\n",
              "      <td>1.841246</td>\n",
              "      <td>13.922147</td>\n",
              "      <td>19.053999</td>\n",
              "      <td>NaN</td>\n",
              "      <td>587.428538</td>\n",
              "      <td>NaN</td>\n",
              "      <td>NaN</td>\n",
              "    </tr>\n",
              "    <tr>\n",
              "      <th>min</th>\n",
              "      <td>NaN</td>\n",
              "      <td>NaN</td>\n",
              "      <td>1985.000000</td>\n",
              "      <td>NaN</td>\n",
              "      <td>NaN</td>\n",
              "      <td>0.000000</td>\n",
              "      <td>0.000000</td>\n",
              "      <td>0.000000</td>\n",
              "      <td>0.000000</td>\n",
              "      <td>0.010000</td>\n",
              "      <td>13.000000</td>\n",
              "      <td>3.000000</td>\n",
              "      <td>NaN</td>\n",
              "      <td>4.000000</td>\n",
              "      <td>NaN</td>\n",
              "      <td>NaN</td>\n",
              "    </tr>\n",
              "    <tr>\n",
              "      <th>25%</th>\n",
              "      <td>NaN</td>\n",
              "      <td>NaN</td>\n",
              "      <td>2004.000000</td>\n",
              "      <td>NaN</td>\n",
              "      <td>NaN</td>\n",
              "      <td>0.050000</td>\n",
              "      <td>0.010000</td>\n",
              "      <td>0.000000</td>\n",
              "      <td>0.010000</td>\n",
              "      <td>0.100000</td>\n",
              "      <td>60.000000</td>\n",
              "      <td>12.000000</td>\n",
              "      <td>NaN</td>\n",
              "      <td>11.000000</td>\n",
              "      <td>NaN</td>\n",
              "      <td>NaN</td>\n",
              "    </tr>\n",
              "    <tr>\n",
              "      <th>50%</th>\n",
              "      <td>NaN</td>\n",
              "      <td>NaN</td>\n",
              "      <td>2007.000000</td>\n",
              "      <td>NaN</td>\n",
              "      <td>NaN</td>\n",
              "      <td>0.130000</td>\n",
              "      <td>0.050000</td>\n",
              "      <td>0.000000</td>\n",
              "      <td>0.020000</td>\n",
              "      <td>0.250000</td>\n",
              "      <td>71.000000</td>\n",
              "      <td>22.000000</td>\n",
              "      <td>NaN</td>\n",
              "      <td>27.000000</td>\n",
              "      <td>NaN</td>\n",
              "      <td>NaN</td>\n",
              "    </tr>\n",
              "    <tr>\n",
              "      <th>75%</th>\n",
              "      <td>NaN</td>\n",
              "      <td>NaN</td>\n",
              "      <td>2010.000000</td>\n",
              "      <td>NaN</td>\n",
              "      <td>NaN</td>\n",
              "      <td>0.350000</td>\n",
              "      <td>0.180000</td>\n",
              "      <td>0.010000</td>\n",
              "      <td>0.060000</td>\n",
              "      <td>0.660000</td>\n",
              "      <td>79.000000</td>\n",
              "      <td>37.000000</td>\n",
              "      <td>NaN</td>\n",
              "      <td>89.000000</td>\n",
              "      <td>NaN</td>\n",
              "      <td>NaN</td>\n",
              "    </tr>\n",
              "    <tr>\n",
              "      <th>max</th>\n",
              "      <td>NaN</td>\n",
              "      <td>NaN</td>\n",
              "      <td>2016.000000</td>\n",
              "      <td>NaN</td>\n",
              "      <td>NaN</td>\n",
              "      <td>41.360000</td>\n",
              "      <td>28.960000</td>\n",
              "      <td>6.500000</td>\n",
              "      <td>10.570000</td>\n",
              "      <td>82.530000</td>\n",
              "      <td>98.000000</td>\n",
              "      <td>113.000000</td>\n",
              "      <td>NaN</td>\n",
              "      <td>10665.000000</td>\n",
              "      <td>NaN</td>\n",
              "      <td>NaN</td>\n",
              "    </tr>\n",
              "  </tbody>\n",
              "</table>\n",
              "</div>"
            ],
            "text/plain": [
              "        Name Platform  Year_of_Release  ...    User_Count  Developer  Rating\n",
              "count   7877     7877      7877.000000  ...   6825.000000       7877    7877\n",
              "unique  4959       17              NaN  ...           NaN       1435       7\n",
              "top     Cars      PS2              NaN  ...           NaN  EA Canada       E\n",
              "freq       8     1275              NaN  ...           NaN        155    2738\n",
              "mean     NaN      NaN      2007.158817  ...    174.722344        NaN     NaN\n",
              "std      NaN      NaN         4.157335  ...    587.428538        NaN     NaN\n",
              "min      NaN      NaN      1985.000000  ...      4.000000        NaN     NaN\n",
              "25%      NaN      NaN      2004.000000  ...     11.000000        NaN     NaN\n",
              "50%      NaN      NaN      2007.000000  ...     27.000000        NaN     NaN\n",
              "75%      NaN      NaN      2010.000000  ...     89.000000        NaN     NaN\n",
              "max      NaN      NaN      2016.000000  ...  10665.000000        NaN     NaN\n",
              "\n",
              "[11 rows x 16 columns]"
            ]
          },
          "metadata": {
            "tags": []
          },
          "execution_count": 13
        }
      ]
    },
    {
      "cell_type": "markdown",
      "metadata": {
        "id": "UqWOEJT7zpXL",
        "colab_type": "text"
      },
      "source": [
        "**Visual Representation and Initial Findings**\n",
        "\n",
        "For representing sales number in a concise manner, we should represent the data form the in various visual format. We are going to take a look at the global sales number of games based on various features from the dataset. Let's start with global sales number of games for each game consoles in every year from 1985 to 2016. \n",
        "\n",
        "From the plot, we see that in general, games released on PS2, WII and XBOX 360 have sold the most number of games throughout the years and 2008 in particular saw the most number of sales.\n",
        "  "
      ]
    },
    {
      "cell_type": "code",
      "metadata": {
        "id": "eyauzBS1OxV_",
        "colab_type": "code",
        "colab": {
          "base_uri": "https://localhost:8080/",
          "height": 719
        },
        "outputId": "d4f088ac-291e-493b-d876-6ccf05cd0460"
      },
      "source": [
        "yearlySales = data_game.groupby(['Year_of_Release','Platform']).Global_Sales.sum()\n",
        "yearlySales.unstack().plot(kind='bar',stacked=True, colormap= 'Set1',  \n",
        "                           grid=False,  figsize=(13,11))\n",
        "plt.title('Global Yearly Sales of Consoles')\n",
        "plt.ylabel('Global Sales')"
      ],
      "execution_count": 14,
      "outputs": [
        {
          "output_type": "execute_result",
          "data": {
            "text/plain": [
              "Text(0, 0.5, 'Global Sales')"
            ]
          },
          "metadata": {
            "tags": []
          },
          "execution_count": 14
        },
        {
          "output_type": "display_data",
          "data": {
            "image/png": "[encoded data removed]",
            "text/plain": [
              "<Figure size 936x792 with 1 Axes>"
            ]
          },
          "metadata": {
            "tags": [],
            "needs_background": "light"
          }
        }
      ]
    },
    {
      "cell_type": "markdown",
      "metadata": {
        "id": "VW3wa__55RQz",
        "colab_type": "text"
      },
      "source": [
        "From this plot we can that the games with critics rating between 76 and 83 saw the best number of sales and a large number of these games were released on the Nintendo WII console. "
      ]
    },
    {
      "cell_type": "code",
      "metadata": {
        "id": "NYJMUo5nVoas",
        "colab_type": "code",
        "colab": {
          "base_uri": "https://localhost:8080/",
          "height": 706
        },
        "outputId": "d6d102cc-fc48-445c-f416-8845cbe1b174"
      },
      "source": [
        "yearlySales = data_game.groupby(['Critic_Score','Platform']).Global_Sales.sum()\n",
        "yearlySales.unstack().plot(kind='bar',stacked=True, colormap= 'Set2',  \n",
        "                           grid=False,  figsize=(13,11))\n",
        "plt.title('Global Sales of Consoles with Critic Score')\n",
        "plt.ylabel('Global Sales')"
      ],
      "execution_count": 15,
      "outputs": [
        {
          "output_type": "execute_result",
          "data": {
            "text/plain": [
              "Text(0, 0.5, 'Global Sales')"
            ]
          },
          "metadata": {
            "tags": []
          },
          "execution_count": 15
        },
        {
          "output_type": "display_data",
          "data": {
            "image/png": "[encoded data removed]",
            "text/plain": [
              "<Figure size 936x792 with 1 Axes>"
            ]
          },
          "metadata": {
            "tags": [],
            "needs_background": "light"
          }
        }
      ]
    },
    {
      "cell_type": "markdown",
      "metadata": {
        "id": "7IRmPZvn6AzA",
        "colab_type": "text"
      },
      "source": [
        "Genre of a game plays a major role in the sales number.  From the plot we see that Action, Sport and Shooter genre saw the most number of sales both in every year and combined. "
      ]
    },
    {
      "cell_type": "code",
      "metadata": {
        "id": "Q1UoA3cFWtbx",
        "colab_type": "code",
        "colab": {
          "base_uri": "https://localhost:8080/",
          "height": 719
        },
        "outputId": "fb7cdcfc-66db-44e4-dd39-a469f83bbfc1"
      },
      "source": [
        "yearlySales = data_game.groupby(['Year_of_Release','Genre']).Global_Sales.sum()\n",
        "yearlySales.unstack().plot(kind='bar',stacked=True, colormap= 'tab20',  \n",
        "                           grid=False,  figsize=(13,11))\n",
        "plt.title('Global Yearly Sales of Different Genres')\n",
        "plt.ylabel('Global Sales')"
      ],
      "execution_count": 16,
      "outputs": [
        {
          "output_type": "execute_result",
          "data": {
            "text/plain": [
              "Text(0, 0.5, 'Global Sales')"
            ]
          },
          "metadata": {
            "tags": []
          },
          "execution_count": 16
        },
        {
          "output_type": "display_data",
          "data": {
            "image/png": "[encoded data removed]",
            "text/plain": [
              "<Figure size 936x792 with 1 Axes>"
            ]
          },
          "metadata": {
            "tags": [],
            "needs_background": "light"
          }
        }
      ]
    },
    {
      "cell_type": "markdown",
      "metadata": {
        "id": "MB1ki9Q17hoR",
        "colab_type": "text"
      },
      "source": [
        "To support the findings form the previous plot, here sales numbers from each genre has been combined. The result shows that Action, Sport and Shooter genre has been the best selling genres in games. Among the game consoles, PS2, PS3, Xbox 360 and Wii have seen the most number of sales in these genres."
      ]
    },
    {
      "cell_type": "code",
      "metadata": {
        "id": "ZmguCiN_XGGL",
        "colab_type": "code",
        "colab": {
          "base_uri": "https://localhost:8080/",
          "height": 744
        },
        "outputId": "987e3cbf-6869-49cb-9a0c-c2b88ba0ead8"
      },
      "source": [
        "yearlySales = data_game.groupby(['Genre','Platform']).Global_Sales.sum()\n",
        "yearlySales.unstack().plot(kind='bar',stacked=True, colormap= 'tab20',  \n",
        "                           grid=False,  figsize=(13,11))\n",
        "plt.title('Area plot of Global Yearly Sales Consoles')\n",
        "plt.ylabel('Global Sales')"
      ],
      "execution_count": 17,
      "outputs": [
        {
          "output_type": "execute_result",
          "data": {
            "text/plain": [
              "Text(0, 0.5, 'Global Sales')"
            ]
          },
          "metadata": {
            "tags": []
          },
          "execution_count": 17
        },
        {
          "output_type": "display_data",
          "data": {
            "image/png": "[encoded data removed]",
            "text/plain": [
              "<Figure size 936x792 with 1 Axes>"
            ]
          },
          "metadata": {
            "tags": [],
            "needs_background": "light"
          }
        }
      ]
    },
    {
      "cell_type": "markdown",
      "metadata": {
        "id": "WZk2ppkx8_AY",
        "colab_type": "text"
      },
      "source": [
        "Video game rating provides a restrictions on which age group can play cenrtain types of games. Therefore, theoritically games that are rated for everyone should have better sales than games rated for mature audience. Form the plot, we see that \"E\"(everyone) rated games are the most sold games and sports genre has the most number of games in this category.  "
      ]
    },
    {
      "cell_type": "code",
      "metadata": {
        "id": "JO8FK-RrX9H6",
        "colab_type": "code",
        "colab": {
          "base_uri": "https://localhost:8080/",
          "height": 710
        },
        "outputId": "3e9f84d0-4826-43cd-ad29-ae0d699383ef"
      },
      "source": [
        "yearlySales = data_game.groupby(['Rating','Genre']).Global_Sales.sum()\n",
        "yearlySales.unstack().plot(kind='bar',stacked=True, colormap= 'tab20',  \n",
        "                           grid=False,  figsize=(13,11))\n",
        "plt.title('Area plot of Global Yearly Sales Consoles')\n",
        "plt.ylabel('Global Sales')"
      ],
      "execution_count": 18,
      "outputs": [
        {
          "output_type": "execute_result",
          "data": {
            "text/plain": [
              "Text(0, 0.5, 'Global Sales')"
            ]
          },
          "metadata": {
            "tags": []
          },
          "execution_count": 18
        },
        {
          "output_type": "display_data",
          "data": {
            "image/png": "[encoded data removed]",
            "text/plain": [
              "<Figure size 936x792 with 1 Axes>"
            ]
          },
          "metadata": {
            "tags": [],
            "needs_background": "light"
          }
        }
      ]
    },
    {
      "cell_type": "markdown",
      "metadata": {
        "id": "wTR-YreP99RX",
        "colab_type": "text"
      },
      "source": [
        "Now that we have explored the sales number based on diffeterent features of the dataset, lets focus on looking at the North American sales number and Japanese Sales number compared to overall global sales number in two different types of plotting format.  \n",
        "\n",
        "Now, as form the graphs below, it is clear that majority of the sales are coming from North american region and Europian region compared to other regions. Also, between the different plot type, the second plot with frequency represents the overall comparision better than scatter plot. \n",
        "\n",
        "From the plots, we see that Japanes sales number reached above 6 million at best where in North America the number reached more than 40 million and in Europian region it reached just below 30 million in sales number. The plot with frequency format (2nd plot) shows the representation clearly."
      ]
    },
    {
      "cell_type": "code",
      "metadata": {
        "colab_type": "code",
        "id": "ypA12sspw20N",
        "colab": {
          "base_uri": "https://localhost:8080/",
          "height": 1000
        },
        "outputId": "db469983-111b-411a-86ca-f5b58f875592"
      },
      "source": [
        "scatter_plot1 = data_game.plot.scatter (x = 'Global_Sales',\n",
        "                                      y = 'JP_Sales', color = 'r')\n",
        "\n",
        "scatter_plot2= data_game.plot.scatter (x = 'Global_Sales',\n",
        "                                      y = 'NA_Sales', color = 'g')\n",
        "\n",
        "scatter_plot3 = data_game.plot.scatter (x = 'Global_Sales',\n",
        "                                      y = 'EU_Sales', color = 'r')\n",
        "\n",
        "scatter_plot4= data_game.plot.scatter (x = 'Global_Sales',\n",
        "                                      y = 'Other_Sales', color = 'g')\n",
        "\n",
        "print (scatter_plot1 == scatter_plot2 == scatter_plot3 == scatter_plot4)"
      ],
      "execution_count": 19,
      "outputs": [
        {
          "output_type": "stream",
          "text": [
            "False\n"
          ],
          "name": "stdout"
        },
        {
          "output_type": "display_data",
          "data": {
            "image/png": "[encoded data removed]",
            "text/plain": [
              "<Figure size 432x288 with 1 Axes>"
            ]
          },
          "metadata": {
            "tags": [],
            "needs_background": "light"
          }
        },
        {
          "output_type": "display_data",
          "data": {
            "image/png": "[encoded data removed]",
            "text/plain": [
              "<Figure size 432x288 with 1 Axes>"
            ]
          },
          "metadata": {
            "tags": [],
            "needs_background": "light"
          }
        },
        {
          "output_type": "display_data",
          "data": {
            "image/png": "[encoded data removed]",
            "text/plain": [
              "<Figure size 432x288 with 1 Axes>"
            ]
          },
          "metadata": {
            "tags": [],
            "needs_background": "light"
          }
        },
        {
          "output_type": "display_data",
          "data": {
            "image/png": "[encoded data removed]",
            "text/plain": [
              "<Figure size 432x288 with 1 Axes>"
            ]
          },
          "metadata": {
            "tags": [],
            "needs_background": "light"
          }
        }
      ]
    },
    {
      "cell_type": "code",
      "metadata": {
        "id": "lE9KvXs3D_-z",
        "colab_type": "code",
        "colab": {
          "base_uri": "https://localhost:8080/",
          "height": 297
        },
        "outputId": "fca2e133-d802-49bc-f7f5-61720f1990e9"
      },
      "source": [
        "data_game.plot(x = 'Global_Sales', y = ['EU_Sales','NA_Sales','JP_Sales','Other_Sales'])"
      ],
      "execution_count": 20,
      "outputs": [
        {
          "output_type": "execute_result",
          "data": {
            "text/plain": [
              "<matplotlib.axes._subplots.AxesSubplot at 0x7f27f7dac1d0>"
            ]
          },
          "metadata": {
            "tags": []
          },
          "execution_count": 20
        },
        {
          "output_type": "display_data",
          "data": {
            "image/png": "[encoded data removed]",
            "text/plain": [
              "<Figure size 432x288 with 1 Axes>"
            ]
          },
          "metadata": {
            "tags": [],
            "needs_background": "light"
          }
        }
      ]
    },
    {
      "cell_type": "markdown",
      "metadata": {
        "id": "o51YjDlJC09c",
        "colab_type": "text"
      },
      "source": [
        "From the plots we can see a pattern that shows that the number of games sold in North America and Europe has a large affect on global sales number. With the increase of the sales number in these two region we see the increase of global sales number too. Therefore, there might be a direct correlation between the global sales number of games with NA and EU sales number. For building a global sales number prediction model, the dataset can be splitted into training and test set and one or more regression algorthims can be used to build the prediction model. Finally, the prediction model can be applied on the fictional dataset to validate the prediction model. "
      ]
    },
    {
      "cell_type": "markdown",
      "metadata": {
        "id": "iiKEMHraNsuk",
        "colab_type": "text"
      },
      "source": [
        "**The Prediction Model**"
      ]
    },
    {
      "cell_type": "markdown",
      "metadata": {
        "id": "ZL9mGeGiqtss",
        "colab_type": "text"
      },
      "source": [
        "Now, the focus of this notebook will shift towards creating a prediction model. There are a number of cruicial steps that are necessary to make sure that the model we are trying to build is as accurate as possible. The first step is selecting algorithms. Since, the goal is to predict the global sales, meaning the data we are interested are continuous. Which leads us to look for suitable regression algorithms rather than classification algorithms as the we are not prediciting any classification. \n",
        "\n",
        "For this prediciton model, initially Linear Regression, Logistic Regression, Support Vector Regression and Stochastic gradient descent have been selected. The aim is to train the algorithms on the same dataset to determine which algorithm is a better fit for the proposed model. \n",
        "\n",
        "\n",
        "Let's start with importing the classifiers using the Scikit-learn library."
      ]
    },
    {
      "cell_type": "code",
      "metadata": {
        "id": "UfZZEM0vZKts",
        "colab_type": "code",
        "colab": {}
      },
      "source": [
        "def warn(*args, **kwargs):\n",
        "    pass\n",
        "import warnings\n",
        "warnings.warn = warn"
      ],
      "execution_count": 21,
      "outputs": []
    },
    {
      "cell_type": "code",
      "metadata": {
        "id": "cjWXrycEIMes",
        "colab_type": "code",
        "colab": {}
      },
      "source": [
        "import numpy as np\n",
        "import pandas as pd\n",
        "import seaborn as sns\n",
        "from matplotlib import pyplot as plt\n",
        "%matplotlib inline\n",
        "\n",
        "from sklearn.linear_model import LogisticRegression\n",
        "from sklearn.metrics import confusion_matrix\n",
        "from sklearn.metrics import accuracy_score\n",
        "from sklearn.model_selection import train_test_split\n",
        "from sklearn.metrics import classification_report\n",
        "from  matplotlib import pyplot\n",
        "from sklearn.metrics import mean_squared_error, r2_score\n",
        "from sklearn.preprocessing import StandardScaler\n",
        "from sklearn.naive_bayes import MultinomialNB\n",
        "from sklearn.linear_model import LinearRegression\n",
        "from sklearn.svm import SVR\n",
        "from sklearn import linear_model\n",
        "from sklearn.svm import LinearSVC\n",
        "from brewer2mpl import qualitative"
      ],
      "execution_count": 22,
      "outputs": []
    },
    {
      "cell_type": "code",
      "metadata": {
        "id": "g4dvIUtmMb2-",
        "colab_type": "code",
        "colab": {
          "base_uri": "https://localhost:8080/",
          "height": 275
        },
        "outputId": "130882fd-5f1f-45c1-9284-9378ca202301"
      },
      "source": [
        "!pip install  scikit-plot"
      ],
      "execution_count": 23,
      "outputs": [
        {
          "output_type": "stream",
          "text": [
            "Collecting scikit-plot\n",
            "  Downloading https://files.pythonhosted.org/packages/7c/47/32520e259340c140a4ad27c1b97050dd3254fdc517b1d59974d47037510e/scikit_plot-0.3.7-py3-none-any.whl\n",
            "Requirement already satisfied: joblib>=0.10 in /usr/local/lib/python3.6/dist-packages (from scikit-plot) (0.16.0)\n",
            "Requirement already satisfied: scikit-learn>=0.18 in /usr/local/lib/python3.6/dist-packages (from scikit-plot) (0.22.2.post1)\n",
            "Requirement already satisfied: matplotlib>=1.4.0 in /usr/local/lib/python3.6/dist-packages (from scikit-plot) (3.2.2)\n",
            "Requirement already satisfied: scipy>=0.9 in /usr/local/lib/python3.6/dist-packages (from scikit-plot) (1.4.1)\n",
            "Requirement already satisfied: numpy>=1.11.0 in /usr/local/lib/python3.6/dist-packages (from scikit-learn>=0.18->scikit-plot) (1.18.5)\n",
            "Requirement already satisfied: pyparsing!=2.0.4,!=2.1.2,!=2.1.6,>=2.0.1 in /usr/local/lib/python3.6/dist-packages (from matplotlib>=1.4.0->scikit-plot) (2.4.7)\n",
            "Requirement already satisfied: python-dateutil>=2.1 in /usr/local/lib/python3.6/dist-packages (from matplotlib>=1.4.0->scikit-plot) (2.8.1)\n",
            "Requirement already satisfied: kiwisolver>=1.0.1 in /usr/local/lib/python3.6/dist-packages (from matplotlib>=1.4.0->scikit-plot) (1.2.0)\n",
            "Requirement already satisfied: cycler>=0.10 in /usr/local/lib/python3.6/dist-packages (from matplotlib>=1.4.0->scikit-plot) (0.10.0)\n",
            "Requirement already satisfied: six>=1.5 in /usr/local/lib/python3.6/dist-packages (from python-dateutil>=2.1->matplotlib>=1.4.0->scikit-plot) (1.15.0)\n",
            "Installing collected packages: scikit-plot\n",
            "Successfully installed scikit-plot-0.3.7\n"
          ],
          "name": "stdout"
        }
      ]
    },
    {
      "cell_type": "code",
      "metadata": {
        "id": "IKlzmna6HKEQ",
        "colab_type": "code",
        "colab": {}
      },
      "source": [
        "import scikitplot as skplt"
      ],
      "execution_count": 24,
      "outputs": []
    },
    {
      "cell_type": "markdown",
      "metadata": {
        "id": "I7vxBVIuuOcx",
        "colab_type": "text"
      },
      "source": [
        "We mentioned in our analysis part that we are going to look for the data type in the dataset. Turns out the sales number were float value. To overcome any kind of error, the type of data is changed to integer. Also, the numbers in the sales columns are in million, therefore before converting the datatype we are multiplying the float values with 1000000 so that we dont train the classifiers on wrong data.   "
      ]
    },
    {
      "cell_type": "code",
      "metadata": {
        "id": "ZbVHjpjRIiwb",
        "colab_type": "code",
        "colab": {}
      },
      "source": [
        "data_game['NA_Sales'] = data_game['NA_Sales'].astype(int)\n",
        "data_game['EU_Sales'] = data_game['EU_Sales'].astype(int)\n",
        "data_game['JP_Sales'] = data_game['JP_Sales'].astype(int)\n",
        "data_game['Other_Sales'] = data_game['Other_Sales'].astype(int)\n",
        "data_game['Global_Sales'] = data_game['Global_Sales'].astype(int)"
      ],
      "execution_count": 25,
      "outputs": []
    },
    {
      "cell_type": "markdown",
      "metadata": {
        "id": "W-qPVezzvDmH",
        "colab_type": "text"
      },
      "source": [
        "In our analysis part we saw that a majority of the game sales number are coming from NA and EU region, therefore the initail aim is to predict gloabl sales number of video game based on EU and NA region. \n",
        "Along with that, the dataset is also being split into two parts, one for training the classifiers and one part is for testing the accuracy of the classifiers."
      ]
    },
    {
      "cell_type": "code",
      "metadata": {
        "id": "tP_CGlmNMpWy",
        "colab_type": "code",
        "colab": {}
      },
      "source": [
        "A = data_game.loc[:,['NA_Sales', 'EU_Sales']]\n",
        "B = data_game['Global_Sales']\n",
        "\n",
        "x_train,x_test,y_train,y_test = train_test_split(A,B)\n"
      ],
      "execution_count": 26,
      "outputs": []
    },
    {
      "cell_type": "code",
      "metadata": {
        "id": "BDnzqfzBVKdo",
        "colab_type": "code",
        "colab": {
          "base_uri": "https://localhost:8080/",
          "height": 34
        },
        "outputId": "96d8004b-d709-40b3-e181-90f31cec2c36"
      },
      "source": [
        "x_train.shape"
      ],
      "execution_count": 27,
      "outputs": [
        {
          "output_type": "execute_result",
          "data": {
            "text/plain": [
              "(5907, 2)"
            ]
          },
          "metadata": {
            "tags": []
          },
          "execution_count": 27
        }
      ]
    },
    {
      "cell_type": "code",
      "metadata": {
        "id": "NPH-hqxPVQ2X",
        "colab_type": "code",
        "colab": {
          "base_uri": "https://localhost:8080/",
          "height": 34
        },
        "outputId": "33932237-e41a-4f27-96e6-8c66ccee75dd"
      },
      "source": [
        "x_test.shape"
      ],
      "execution_count": 28,
      "outputs": [
        {
          "output_type": "execute_result",
          "data": {
            "text/plain": [
              "(1970, 2)"
            ]
          },
          "metadata": {
            "tags": []
          },
          "execution_count": 28
        }
      ]
    },
    {
      "cell_type": "markdown",
      "metadata": {
        "id": "Fh5HU4a9wDc1",
        "colab_type": "text"
      },
      "source": [
        "At first, we are starting with Linear Regression classifier. Linear regression algorithm is best used in a regression problem therefore this classifier is a suitable candidate for this mdoel. \n",
        "\n",
        "In the graphical plot, the x axis represents the number of training data and the y axis represents the accuracy score based on the training data. From the test we see that with the increase of training data particularly after 1500 training data, this classifier achieves an accuracy 85.3% and from the plot we see that the cross validation score is very strong. That indicates that the linear regression based prediction model will also perform well in any independent dataset.   "
      ]
    },
    {
      "cell_type": "code",
      "metadata": {
        "id": "5-AFRQ-Lr3TS",
        "colab_type": "code",
        "colab": {
          "base_uri": "https://localhost:8080/",
          "height": 513
        },
        "outputId": "8777c0fe-967e-4b20-8011-6d86faadb9bc"
      },
      "source": [
        "global_Lin = LinearRegression()\n",
        "global_Lin.fit(x_train,y_train)\n",
        "global_predict_LR= global_Lin.predict(x_test)\n",
        "global_Lin.score(x_test,y_test)\n",
        "\n",
        "skplt.estimators.plot_learning_curve(global_Lin, A,B,figsize=(10,8))\n",
        "plt.show()"
      ],
      "execution_count": 29,
      "outputs": [
        {
          "output_type": "display_data",
          "data": {
            "image/png": "[encoded data removed]",
            "text/plain": [
              "<Figure size 720x576 with 1 Axes>"
            ]
          },
          "metadata": {
            "tags": [],
            "needs_background": "light"
          }
        }
      ]
    },
    {
      "cell_type": "code",
      "metadata": {
        "id": "NIP1sjkrw4yz",
        "colab_type": "code",
        "colab": {
          "base_uri": "https://localhost:8080/",
          "height": 34
        },
        "outputId": "76c61648-dcd6-4f73-f7c3-ee05cf98380e"
      },
      "source": [
        "global_Lin.score(x_test,y_test)"
      ],
      "execution_count": 30,
      "outputs": [
        {
          "output_type": "execute_result",
          "data": {
            "text/plain": [
              "0.8731925692428074"
            ]
          },
          "metadata": {
            "tags": []
          },
          "execution_count": 30
        }
      ]
    },
    {
      "cell_type": "markdown",
      "metadata": {
        "id": "I7tS6vvRxpsC",
        "colab_type": "text"
      },
      "source": [
        "Logistic regression is another classifier that canbe used in both regression and classification problem. This particualr classifier is built upon linear regression that is why the classifier performs well on both type of prediction analysis. Here, we see that the accuracy of logisitc regression in this dataset is 84.4% and similar to linear regression the cross validation score is also strong."
      ]
    },
    {
      "cell_type": "code",
      "metadata": {
        "colab_type": "code",
        "id": "nmFohglHsdjo",
        "colab": {
          "base_uri": "https://localhost:8080/",
          "height": 34
        },
        "outputId": "65f9685b-feaf-4284-a519-b4fcbb7873e9"
      },
      "source": [
        "global_LR = LogisticRegression()\n",
        "global_LR.fit(x_train,y_train)\n",
        "global_predict_LR= global_LR.predict(x_test)\n",
        "global_LR.score(x_test,y_test)"
      ],
      "execution_count": 31,
      "outputs": [
        {
          "output_type": "execute_result",
          "data": {
            "text/plain": [
              "0.8664974619289341"
            ]
          },
          "metadata": {
            "tags": []
          },
          "execution_count": 31
        }
      ]
    },
    {
      "cell_type": "code",
      "metadata": {
        "id": "gGA2iBYVlB2e",
        "colab_type": "code",
        "colab": {}
      },
      "source": [
        ""
      ],
      "execution_count": 31,
      "outputs": []
    },
    {
      "cell_type": "code",
      "metadata": {
        "colab_type": "code",
        "id": "t2jfSNezsc3p",
        "colab": {
          "base_uri": "https://localhost:8080/",
          "height": 513
        },
        "outputId": "512587eb-e513-4844-d63e-29f18b5d5613"
      },
      "source": [
        "skplt.estimators.plot_learning_curve(global_LR, A,B,figsize=(10,8))\n",
        "plt.show()"
      ],
      "execution_count": 32,
      "outputs": [
        {
          "output_type": "display_data",
          "data": {
            "image/png": "[encoded data removed]",
            "text/plain": [
              "<Figure size 720x576 with 1 Axes>"
            ]
          },
          "metadata": {
            "tags": [],
            "needs_background": "light"
          }
        }
      ]
    },
    {
      "cell_type": "code",
      "metadata": {
        "id": "TNlfH6Dmf13D",
        "colab_type": "code",
        "colab": {}
      },
      "source": [
        "print(classification_report(global_LR,y_test))"
      ],
      "execution_count": null,
      "outputs": []
    },
    {
      "cell_type": "markdown",
      "metadata": {
        "id": "bMkYbrlcypKs",
        "colab_type": "text"
      },
      "source": [
        "Here, we see that support vector regression classifier performed strongly in the dataset with  90.3% accuracy. From the plot, it clearly shows that the cross validation performance is very low. Even when the training sample is increasing the cross validation score is staying poor, which indicates that even though this classifier will perform very well on this particular dataset but if we try to use this precidtion model using SVR on any other independent dataset it will perform poorly.     "
      ]
    },
    {
      "cell_type": "code",
      "metadata": {
        "id": "UIxQV0DKZHAq",
        "colab_type": "code",
        "colab": {
          "base_uri": "https://localhost:8080/",
          "height": 34
        },
        "outputId": "93f88048-3ea8-4d4d-9ad9-b3f87ee06c86"
      },
      "source": [
        "global_SVR = SVR(gamma='scale', kernel = 'linear',  C=1.0, epsilon=0.1)\n",
        "global_SVR.fit(x_train,y_train)\n",
        "global_predict_SVR = global_SVR.predict(x_test)\n",
        "global_SVR.score(x_test,y_test)"
      ],
      "execution_count": 34,
      "outputs": [
        {
          "output_type": "execute_result",
          "data": {
            "text/plain": [
              "0.8735537160054894"
            ]
          },
          "metadata": {
            "tags": []
          },
          "execution_count": 34
        }
      ]
    },
    {
      "cell_type": "code",
      "metadata": {
        "id": "Dbg7y068ncU1",
        "colab_type": "code",
        "colab": {
          "base_uri": "https://localhost:8080/",
          "height": 513
        },
        "outputId": "5048bf6b-80b0-4ea7-b200-a996a068da44"
      },
      "source": [
        "skplt.estimators.plot_learning_curve(global_SVR, A,B,figsize=(10,8))\n",
        "plt.show()"
      ],
      "execution_count": 35,
      "outputs": [
        {
          "output_type": "display_data",
          "data": {
            "image/png": "[encoded data removed]",
            "text/plain": [
              "<Figure size 720x576 with 1 Axes>"
            ]
          },
          "metadata": {
            "tags": [],
            "needs_background": "light"
          }
        }
      ]
    },
    {
      "cell_type": "markdown",
      "metadata": {
        "id": "XF-v-AFUzmAc",
        "colab_type": "text"
      },
      "source": [
        "Similar to SVR, Stochastic gradient descent(SGD)  classifier also perform well with accuracy of 90.35% but with very poor cross validation score even with increaing number of training data. Therefore, this too is not an ideal classifier to use for prediction in any other independent database.   "
      ]
    },
    {
      "cell_type": "code",
      "metadata": {
        "id": "vaxmppF8aWpz",
        "colab_type": "code",
        "colab": {
          "base_uri": "https://localhost:8080/",
          "height": 34
        },
        "outputId": "7283d1d5-53b3-4a7a-d8d8-62bf38b8f39a"
      },
      "source": [
        "global_SGD = linear_model.SGDRegressor(max_iter=100000, tol=1e-3)\n",
        "global_SGD.fit(x_train,y_train)\n",
        "global_predict_SGD = global_SGD.predict(x_test)\n",
        "global_SGD.score(x_test,y_test)"
      ],
      "execution_count": 36,
      "outputs": [
        {
          "output_type": "execute_result",
          "data": {
            "text/plain": [
              "0.8754886161915029"
            ]
          },
          "metadata": {
            "tags": []
          },
          "execution_count": 36
        }
      ]
    },
    {
      "cell_type": "code",
      "metadata": {
        "id": "_ua8FfB9mSQg",
        "colab_type": "code",
        "colab": {
          "base_uri": "https://localhost:8080/",
          "height": 513
        },
        "outputId": "bde1defa-285b-41b0-fddc-78767af0f0ea"
      },
      "source": [
        "skplt.estimators.plot_learning_curve(global_SGD, A,B,figsize=(10,8))\n",
        "plt.show()"
      ],
      "execution_count": 37,
      "outputs": [
        {
          "output_type": "display_data",
          "data": {
            "image/png": "[encoded data removed]",
            "text/plain": [
              "<Figure size 720x576 with 1 Axes>"
            ]
          },
          "metadata": {
            "tags": [],
            "needs_background": "light"
          }
        }
      ]
    },
    {
      "cell_type": "markdown",
      "metadata": {
        "id": "Cw3FXf2f0gf9",
        "colab_type": "text"
      },
      "source": [
        "Both SVR and SGD demonstrate a major problem in machine learning, which is called overfitting. Overfitting in machine learning field means that the algorithms or classifiers being used to train on the data only works best on that particular data. That means if the dataset is changed the claassifiers will perform poorly. \n",
        "\n",
        "Now that we have identified the problem with SVR and SGD classifiers, from now on, the prediction model will be built around linear regression and logistic regression. Even though these two regression model had lower accuracy score than SVR and SGD the fact that these two classifiers can also perform relatively well on other dataset should be major advantage over the SGD and SVR classifiers. \n",
        "\n",
        "Before moving forward, the regression classifiers should be validated using well known regression validation technique which is comparing r-squared value of the classifier with mean sqaured error value. \n",
        "\n",
        "From the score we see that for both of the classifiers, the values of r-square and mean squared error are matched therefore the calssifiers should be considered validated. With that we can go forward with the model.  "
      ]
    },
    {
      "cell_type": "code",
      "metadata": {
        "id": "smGUM2zhYZo9",
        "colab_type": "code",
        "colab": {
          "base_uri": "https://localhost:8080/",
          "height": 34
        },
        "outputId": "322b2abd-5312-4576-f917-80ca584e01bf"
      },
      "source": [
        "#mean squared error value of linear regression\n",
        "mean_squared_error(y_test, global_predict_Lin) \n"
      ],
      "execution_count": 41,
      "outputs": [
        {
          "output_type": "execute_result",
          "data": {
            "text/plain": [
              "0.2148003753623064"
            ]
          },
          "metadata": {
            "tags": []
          },
          "execution_count": 41
        }
      ]
    },
    {
      "cell_type": "code",
      "metadata": {
        "id": "UNUh-G6zY_Tk",
        "colab_type": "code",
        "colab": {
          "base_uri": "https://localhost:8080/",
          "height": 34
        },
        "outputId": "e5f1897c-c19c-43e1-d750-72b9894f7668"
      },
      "source": [
        "# r squared value of linear regression\n",
        "np.mean((y_test-global_predict_Lin)**2)"
      ],
      "execution_count": 42,
      "outputs": [
        {
          "output_type": "execute_result",
          "data": {
            "text/plain": [
              "0.21480037536230967"
            ]
          },
          "metadata": {
            "tags": []
          },
          "execution_count": 42
        }
      ]
    },
    {
      "cell_type": "code",
      "metadata": {
        "colab_type": "code",
        "id": "mVEcYggZ3uKX",
        "colab": {
          "base_uri": "https://localhost:8080/",
          "height": 34
        },
        "outputId": "fe152a33-0495-4afd-dcd8-94ed3970de68"
      },
      "source": [
        "#mean squared error value of logistic regression\n",
        "mean_squared_error(y_test, global_predict_LR) \n"
      ],
      "execution_count": 43,
      "outputs": [
        {
          "output_type": "execute_result",
          "data": {
            "text/plain": [
              "5.0720812182741115"
            ]
          },
          "metadata": {
            "tags": []
          },
          "execution_count": 43
        }
      ]
    },
    {
      "cell_type": "code",
      "metadata": {
        "colab_type": "code",
        "id": "Y0x2D6u-3vTO",
        "colab": {
          "base_uri": "https://localhost:8080/",
          "height": 34
        },
        "outputId": "227d67ad-5470-4c02-85e4-69224a0fdb79"
      },
      "source": [
        "# r squared value of logistic regression\n",
        "np.mean((y_test-global_predict_LR)**2)"
      ],
      "execution_count": 44,
      "outputs": [
        {
          "output_type": "execute_result",
          "data": {
            "text/plain": [
              "5.0720812182741115"
            ]
          },
          "metadata": {
            "tags": []
          },
          "execution_count": 44
        }
      ]
    },
    {
      "cell_type": "markdown",
      "metadata": {
        "id": "aIuvDTFM4Kiv",
        "colab_type": "text"
      },
      "source": [
        "Initially we tried to predict the gloabl sales based on the sales value of NA and EU region. Now, to further analyze whether we can make a better prediction model, the global sales number is being predicted based on JP and EU sales number. The accuracy of this prediction increased with increasing number trainning examples so is the cross validation score. The accuracy score based on JP and EU region sales number is 84.41% and for this prediciton logistic regression has been used. Another prediction has been made based on JP and NA region with accuracy of 84.36%. "
      ]
    },
    {
      "cell_type": "code",
      "metadata": {
        "id": "IxpYaZ49pZFR",
        "colab_type": "code",
        "colab": {
          "base_uri": "https://localhost:8080/",
          "height": 513
        },
        "outputId": "884f4143-522e-4d1c-a238-6bff0f12f8a4"
      },
      "source": [
        "# prediction based on JP, EU sales using logistic regression\n",
        "x = data_game.loc[:,['JP_Sales', 'EU_Sales']]\n",
        "y = data_game['Global_Sales']\n",
        "\n",
        "x_train,x_test,y_train,y_test = train_test_split(A,B)\n",
        "\n",
        "global_LR_1 = LogisticRegression()\n",
        "global_LR_1.fit(x_train,y_train)\n",
        "global_predict_LR= global_LR_1.predict(x_test)\n",
        "global_LR_1.score(x_test,y_test)\n",
        "\n",
        "skplt.estimators.plot_learning_curve(global_LR_1, x,y,figsize=(10,8))\n",
        "plt.show()"
      ],
      "execution_count": 45,
      "outputs": [
        {
          "output_type": "display_data",
          "data": {
            "image/png": "[encoded data removed]",
            "text/plain": [
              "<Figure size 720x576 with 1 Axes>"
            ]
          },
          "metadata": {
            "tags": [],
            "needs_background": "light"
          }
        }
      ]
    },
    {
      "cell_type": "code",
      "metadata": {
        "id": "jIkBlzVLoF8j",
        "colab_type": "code",
        "colab": {
          "base_uri": "https://localhost:8080/",
          "height": 34
        },
        "outputId": "38d19566-2942-4ba4-9264-51088f5aeea7"
      },
      "source": [
        "#logisitc regression accuracy\n",
        "global_LR_1.score(x_test,y_test)"
      ],
      "execution_count": 46,
      "outputs": [
        {
          "output_type": "execute_result",
          "data": {
            "text/plain": [
              "0.8543147208121827"
            ]
          },
          "metadata": {
            "tags": []
          },
          "execution_count": 46
        }
      ]
    },
    {
      "cell_type": "code",
      "metadata": {
        "id": "UHd3HQz0qKmX",
        "colab_type": "code",
        "colab": {
          "base_uri": "https://localhost:8080/",
          "height": 513
        },
        "outputId": "45adbff2-54b9-4643-9c15-5a5f1c09de15"
      },
      "source": [
        "# prediction based on JP, NA sales using logistic regression\n",
        "x = data_game.loc[:,['NA_Sales', 'JP_Sales']]\n",
        "y = data_game['Global_Sales']\n",
        "\n",
        "x_train,x_test,y_train,y_test = train_test_split(A,B)\n",
        "\n",
        "global_LR_2 = LogisticRegression()\n",
        "global_LR_2.fit(x_train,y_train)\n",
        "global_predict_LR= global_LR_2.predict(x_test)\n",
        "global_LR_2.score(x_test,y_test)\n",
        "\n",
        "skplt.estimators.plot_learning_curve(global_LR_2, x,y,figsize=(10,8))\n",
        "plt.show()"
      ],
      "execution_count": 47,
      "outputs": [
        {
          "output_type": "display_data",
          "data": {
            "image/png": "[encoded data removed]",
            "text/plain": [
              "<Figure size 720x576 with 1 Axes>"
            ]
          },
          "metadata": {
            "tags": [],
            "needs_background": "light"
          }
        }
      ]
    },
    {
      "cell_type": "code",
      "metadata": {
        "id": "1IENiwIwqN2P",
        "colab_type": "code",
        "colab": {
          "base_uri": "https://localhost:8080/",
          "height": 34
        },
        "outputId": "a09e0b36-6e2d-4427-d71b-cdc4ffe3aba8"
      },
      "source": [
        "#logisitc regression accuracy\n",
        "global_LR_2.score(x_test,y_test)"
      ],
      "execution_count": 48,
      "outputs": [
        {
          "output_type": "execute_result",
          "data": {
            "text/plain": [
              "0.8619289340101522"
            ]
          },
          "metadata": {
            "tags": []
          },
          "execution_count": 48
        }
      ]
    },
    {
      "cell_type": "markdown",
      "metadata": {
        "id": "D3GdmXto7fUE",
        "colab_type": "text"
      },
      "source": [
        "As we have used logisitc regression for predicting gloabl sales, now let's use linear regression for the same prediction using identical attributes. This way a direct comparision can be made between the two classifers.Now, from the graphics plots below we see that the accuracy score is 91.99% and 76.29% using linear regression. "
      ]
    },
    {
      "cell_type": "code",
      "metadata": {
        "id": "owZoomOV76oL",
        "colab_type": "code",
        "colab": {
          "base_uri": "https://localhost:8080/",
          "height": 513
        },
        "outputId": "0437334b-e63c-4416-f757-ea490ca61f94"
      },
      "source": [
        "# prediction based on JP, EU sales using linear regression\n",
        "x = data_game.loc[:,['JP_Sales', 'EU_Sales']]\n",
        "y = data_game['Global_Sales']\n",
        "\n",
        "x_train,x_test,y_train,y_test = train_test_split(A,B)\n",
        "\n",
        "global_Lin_1 = LinearRegression()\n",
        "global_Lin_1.fit(x_train,y_train)\n",
        "global_predict_Lin= global_Lin_1.predict(x_test)\n",
        "global_Lin_1.score(x_test,y_test)\n",
        "\n",
        "skplt.estimators.plot_learning_curve(global_Lin_1, x,y,figsize=(10,8))\n",
        "plt.show()"
      ],
      "execution_count": 40,
      "outputs": [
        {
          "output_type": "display_data",
          "data": {
            "image/png": "[encoded data removed]",
            "text/plain": [
              "<Figure size 720x576 with 1 Axes>"
            ]
          },
          "metadata": {
            "tags": [],
            "needs_background": "light"
          }
        }
      ]
    },
    {
      "cell_type": "code",
      "metadata": {
        "id": "lWHaugyg8FZB",
        "colab_type": "code",
        "colab": {
          "base_uri": "https://localhost:8080/",
          "height": 34
        },
        "outputId": "c1557579-2833-4a2c-e9cb-71aa6f62c884"
      },
      "source": [
        "global_Lin_1.score(x_test,y_test)"
      ],
      "execution_count": 49,
      "outputs": [
        {
          "output_type": "execute_result",
          "data": {
            "text/plain": [
              "0.9597896492636222"
            ]
          },
          "metadata": {
            "tags": []
          },
          "execution_count": 49
        }
      ]
    },
    {
      "cell_type": "code",
      "metadata": {
        "id": "HwYyKj1q8FxN",
        "colab_type": "code",
        "colab": {
          "base_uri": "https://localhost:8080/",
          "height": 513
        },
        "outputId": "2f7ed8db-2cc3-4dde-9f22-039c442f33ab"
      },
      "source": [
        "# prediction based on JP, NA sales using linear regression\n",
        "x = data_game.loc[:,['NA_Sales', 'JP_Sales']]\n",
        "y = data_game['Global_Sales']\n",
        "\n",
        "x_train,x_test,y_train,y_test = train_test_split(A,B)\n",
        "\n",
        "global_Lin_2 = LinearRegression()\n",
        "global_Lin_2.fit(x_train,y_train)\n",
        "global_predict_LR= global_Lin_2.predict(x_test)\n",
        "global_Lin_2.score(x_test,y_test)\n",
        "\n",
        "skplt.estimators.plot_learning_curve(global_Lin_2, x,y,figsize=(10,8))\n",
        "plt.show()"
      ],
      "execution_count": 50,
      "outputs": [
        {
          "output_type": "display_data",
          "data": {
            "image/png": "[encoded data removed]",
            "text/plain": [
              "<Figure size 720x576 with 1 Axes>"
            ]
          },
          "metadata": {
            "tags": [],
            "needs_background": "light"
          }
        }
      ]
    },
    {
      "cell_type": "code",
      "metadata": {
        "id": "VF1fD_De8Xrr",
        "colab_type": "code",
        "colab": {
          "base_uri": "https://localhost:8080/",
          "height": 34
        },
        "outputId": "22ed5a1d-907c-4757-d836-6c26bd6df4c0"
      },
      "source": [
        "global_Lin_2.score(x_test,y_test)"
      ],
      "execution_count": 51,
      "outputs": [
        {
          "output_type": "execute_result",
          "data": {
            "text/plain": [
              "0.9258366119252829"
            ]
          },
          "metadata": {
            "tags": []
          },
          "execution_count": 51
        }
      ]
    },
    {
      "cell_type": "markdown",
      "metadata": {
        "id": "xyVzjz39-F4m",
        "colab_type": "text"
      },
      "source": [
        "With prediction made using both the linear regression and logistic regression model, comparing these two classifiers we see that for prediction based on NA and EU region logistic regression(LR) and linear regression(LIN_R)scores 84.41% and 85.39% respectively. Prediction based on NA and JP using LR and LIN_R is 84.36% and 76.29%. Finally with prediction based on JP and EU region using LR and LIN_R the accuracy socre is 84.41% and 91.99%. \n",
        "\n",
        "As we can see that linear regression achieved both the highest and the lowest accuracy score in different scenario whereas logistic regression had similar performance in terms of accuracy in all the scenarios. Based on this comparision, prediction with logistic regression proves to be more accurate and dependable. \n",
        "\n",
        "One major point to observe accross all the plots is that whenever JP sales data is used the cross validation score drops dramatically. Meaning if we are to use the prediction model trained on JP sales data on any other dataset we will get poor result. But prediction made from Eu and NA regions are perfomring very well. \n",
        "\n",
        "Therefore, the model created with Logistic Regression based on NA and EU sales number is the most consistent accross all over tests. And given that it shows strong cross validation score means that this model will perform as strong on other independent datasets too. "
      ]
    },
    {
      "cell_type": "markdown",
      "metadata": {
        "id": "bGRToeTkLWOa",
        "colab_type": "text"
      },
      "source": [
        "**Summary**\n",
        "\n",
        "The goal of this notebook was to explore the video game sales data and based on the findings create a model to predict global sales number. From the data exploration a pattern was found between global sales number and regional sales number. To create the prediction model initially four different algorithms were tested only to find out that out of them only two of the algorithms, logistic regression and linear regression are suitable for this model. Using these two algorithms, global sale number were predicted based on few different attributes like north american, european region and japanese sales number. From both of the classifiers accuracy percentage and cross validation score remarked. By comparing the two classifers it was found that logistice regression was teh better fit for the model with relatively high accuracy and better cross validation score accross all the tests.   \n",
        "\n",
        "As for the further exploration and analyzation, this dataset also includes information on multiple gaming console, game genre, developer and critics score. Therefore, in the future there are scope to further analyze the dataset in terms predicting critical score based on developer, genre or console or combination of all of them. \n",
        "\n",
        "This notebook focused primarily on sales numbers form the dataset and after data exploration and creating prediction model, it successfully predicted global sales number of video games based on regional sales number. With this notebook a number of data analysis techniques have been learned along with that the preiction model provided excellent examples of which alogirhtms are better fitted for which sorts of data. Which is a knowledge that can have major advantages in the future for further exploration in data science and machine learning model creation."
      ]
    }
  ]
}